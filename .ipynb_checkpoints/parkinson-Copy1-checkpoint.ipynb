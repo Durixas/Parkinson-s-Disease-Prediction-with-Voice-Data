{
 "cells": [
  {
   "cell_type": "code",
   "execution_count": 21,
   "id": "87faa015-5ff5-4942-8708-c3b250fa0157",
   "metadata": {
    "tags": []
   },
   "outputs": [
    {
     "ename": "TypeError",
     "evalue": "descriptor '__call__' for 'type' objects doesn't apply to a 'property' object",
     "output_type": "error",
     "traceback": [
      "\u001b[0;31m---------------------------------------------------------------------------\u001b[0m",
      "\u001b[0;31mTypeError\u001b[0m                                 Traceback (most recent call last)",
      "Cell \u001b[0;32mIn[21], line 27\u001b[0m\n\u001b[1;32m     25\u001b[0m \u001b[38;5;28;01mfrom\u001b[39;00m \u001b[38;5;21;01msklearn\u001b[39;00m\u001b[38;5;21;01m.\u001b[39;00m\u001b[38;5;21;01msvm\u001b[39;00m \u001b[38;5;28;01mimport\u001b[39;00m SVC\n\u001b[1;32m     26\u001b[0m \u001b[38;5;28;01mimport\u001b[39;00m \u001b[38;5;21;01mxgboost\u001b[39;00m \u001b[38;5;28;01mas\u001b[39;00m \u001b[38;5;21;01mxgb\u001b[39;00m\n\u001b[0;32m---> 27\u001b[0m \u001b[38;5;28;01mimport\u001b[39;00m \u001b[38;5;21;01mlightgbm\u001b[39;00m \u001b[38;5;28;01mas\u001b[39;00m \u001b[38;5;21;01mlgb\u001b[39;00m\n\u001b[1;32m     28\u001b[0m \u001b[38;5;28;01mfrom\u001b[39;00m \u001b[38;5;21;01msklearn\u001b[39;00m\u001b[38;5;21;01m.\u001b[39;00m\u001b[38;5;21;01mnaive_bayes\u001b[39;00m \u001b[38;5;28;01mimport\u001b[39;00m GaussianNB\n",
      "File \u001b[0;32m~/anaconda3/lib/python3.11/site-packages/lightgbm/__init__.py:8\u001b[0m\n\u001b[1;32m      2\u001b[0m \u001b[38;5;124;03m\"\"\"LightGBM, Light Gradient Boosting Machine.\u001b[39;00m\n\u001b[1;32m      3\u001b[0m \n\u001b[1;32m      4\u001b[0m \u001b[38;5;124;03mContributors: https://github.com/microsoft/LightGBM/graphs/contributors.\u001b[39;00m\n\u001b[1;32m      5\u001b[0m \u001b[38;5;124;03m\"\"\"\u001b[39;00m\n\u001b[1;32m      6\u001b[0m \u001b[38;5;28;01mfrom\u001b[39;00m \u001b[38;5;21;01mpathlib\u001b[39;00m \u001b[38;5;28;01mimport\u001b[39;00m Path\n\u001b[0;32m----> 8\u001b[0m \u001b[38;5;28;01mfrom\u001b[39;00m \u001b[38;5;21;01m.\u001b[39;00m\u001b[38;5;21;01mbasic\u001b[39;00m \u001b[38;5;28;01mimport\u001b[39;00m Booster, Dataset, Sequence, register_logger\n\u001b[1;32m      9\u001b[0m \u001b[38;5;28;01mfrom\u001b[39;00m \u001b[38;5;21;01m.\u001b[39;00m\u001b[38;5;21;01mcallback\u001b[39;00m \u001b[38;5;28;01mimport\u001b[39;00m early_stopping, log_evaluation, record_evaluation, reset_parameter\n\u001b[1;32m     10\u001b[0m \u001b[38;5;28;01mfrom\u001b[39;00m \u001b[38;5;21;01m.\u001b[39;00m\u001b[38;5;21;01mengine\u001b[39;00m \u001b[38;5;28;01mimport\u001b[39;00m CVBooster, cv, train\n",
      "File \u001b[0;32m~/anaconda3/lib/python3.11/site-packages/lightgbm/basic.py:21\u001b[0m\n\u001b[1;32m     18\u001b[0m \u001b[38;5;28;01mimport\u001b[39;00m \u001b[38;5;21;01mnumpy\u001b[39;00m \u001b[38;5;28;01mas\u001b[39;00m \u001b[38;5;21;01mnp\u001b[39;00m\n\u001b[1;32m     19\u001b[0m \u001b[38;5;28;01mimport\u001b[39;00m \u001b[38;5;21;01mscipy\u001b[39;00m\u001b[38;5;21;01m.\u001b[39;00m\u001b[38;5;21;01msparse\u001b[39;00m\n\u001b[0;32m---> 21\u001b[0m \u001b[38;5;28;01mfrom\u001b[39;00m \u001b[38;5;21;01m.\u001b[39;00m\u001b[38;5;21;01mcompat\u001b[39;00m \u001b[38;5;28;01mimport\u001b[39;00m PANDAS_INSTALLED, concat, dt_DataTable, pd_CategoricalDtype, pd_DataFrame, pd_Series\n\u001b[1;32m     22\u001b[0m \u001b[38;5;28;01mfrom\u001b[39;00m \u001b[38;5;21;01m.\u001b[39;00m\u001b[38;5;21;01mlibpath\u001b[39;00m \u001b[38;5;28;01mimport\u001b[39;00m find_lib_path\n\u001b[1;32m     24\u001b[0m \u001b[38;5;28;01mif\u001b[39;00m TYPE_CHECKING:\n",
      "File \u001b[0;32m~/anaconda3/lib/python3.11/site-packages/lightgbm/compat.py:145\u001b[0m\n\u001b[1;32m    143\u001b[0m \u001b[38;5;28;01mfrom\u001b[39;00m \u001b[38;5;21;01mdask\u001b[39;00m\u001b[38;5;21;01m.\u001b[39;00m\u001b[38;5;21;01marray\u001b[39;00m \u001b[38;5;28;01mimport\u001b[39;00m from_delayed \u001b[38;5;28;01mas\u001b[39;00m dask_array_from_delayed\n\u001b[1;32m    144\u001b[0m \u001b[38;5;28;01mfrom\u001b[39;00m \u001b[38;5;21;01mdask\u001b[39;00m\u001b[38;5;21;01m.\u001b[39;00m\u001b[38;5;21;01mbag\u001b[39;00m \u001b[38;5;28;01mimport\u001b[39;00m from_delayed \u001b[38;5;28;01mas\u001b[39;00m dask_bag_from_delayed\n\u001b[0;32m--> 145\u001b[0m \u001b[38;5;28;01mfrom\u001b[39;00m \u001b[38;5;21;01mdask\u001b[39;00m\u001b[38;5;21;01m.\u001b[39;00m\u001b[38;5;21;01mdataframe\u001b[39;00m \u001b[38;5;28;01mimport\u001b[39;00m DataFrame \u001b[38;5;28;01mas\u001b[39;00m dask_DataFrame\n\u001b[1;32m    146\u001b[0m \u001b[38;5;28;01mfrom\u001b[39;00m \u001b[38;5;21;01mdask\u001b[39;00m\u001b[38;5;21;01m.\u001b[39;00m\u001b[38;5;21;01mdataframe\u001b[39;00m \u001b[38;5;28;01mimport\u001b[39;00m Series \u001b[38;5;28;01mas\u001b[39;00m dask_Series\n\u001b[1;32m    147\u001b[0m \u001b[38;5;28;01mfrom\u001b[39;00m \u001b[38;5;21;01mdask\u001b[39;00m\u001b[38;5;21;01m.\u001b[39;00m\u001b[38;5;21;01mdistributed\u001b[39;00m \u001b[38;5;28;01mimport\u001b[39;00m Client, Future, default_client, wait\n",
      "File \u001b[0;32m~/anaconda3/lib/python3.11/site-packages/dask/dataframe/__init__.py:6\u001b[0m\n\u001b[1;32m      4\u001b[0m \u001b[38;5;28;01mimport\u001b[39;00m \u001b[38;5;21;01mdask\u001b[39;00m\u001b[38;5;21;01m.\u001b[39;00m\u001b[38;5;21;01mdataframe\u001b[39;00m\u001b[38;5;21;01m.\u001b[39;00m\u001b[38;5;21;01m_pyarrow_compat\u001b[39;00m\n\u001b[1;32m      5\u001b[0m \u001b[38;5;28;01mfrom\u001b[39;00m \u001b[38;5;21;01mdask\u001b[39;00m\u001b[38;5;21;01m.\u001b[39;00m\u001b[38;5;21;01mbase\u001b[39;00m \u001b[38;5;28;01mimport\u001b[39;00m compute\n\u001b[0;32m----> 6\u001b[0m \u001b[38;5;28;01mfrom\u001b[39;00m \u001b[38;5;21;01mdask\u001b[39;00m\u001b[38;5;21;01m.\u001b[39;00m\u001b[38;5;21;01mdataframe\u001b[39;00m \u001b[38;5;28;01mimport\u001b[39;00m backends, dispatch, rolling\n\u001b[1;32m      7\u001b[0m \u001b[38;5;28;01mfrom\u001b[39;00m \u001b[38;5;21;01mdask\u001b[39;00m\u001b[38;5;21;01m.\u001b[39;00m\u001b[38;5;21;01mdataframe\u001b[39;00m\u001b[38;5;21;01m.\u001b[39;00m\u001b[38;5;21;01mcore\u001b[39;00m \u001b[38;5;28;01mimport\u001b[39;00m (\n\u001b[1;32m      8\u001b[0m     DataFrame,\n\u001b[1;32m      9\u001b[0m     Index,\n\u001b[0;32m   (...)\u001b[0m\n\u001b[1;32m     15\u001b[0m     to_timedelta,\n\u001b[1;32m     16\u001b[0m )\n\u001b[1;32m     17\u001b[0m \u001b[38;5;28;01mfrom\u001b[39;00m \u001b[38;5;21;01mdask\u001b[39;00m\u001b[38;5;21;01m.\u001b[39;00m\u001b[38;5;21;01mdataframe\u001b[39;00m\u001b[38;5;21;01m.\u001b[39;00m\u001b[38;5;21;01mgroupby\u001b[39;00m \u001b[38;5;28;01mimport\u001b[39;00m Aggregation\n",
      "File \u001b[0;32m~/anaconda3/lib/python3.11/site-packages/dask/dataframe/backends.py:15\u001b[0m\n\u001b[1;32m     13\u001b[0m \u001b[38;5;28;01mfrom\u001b[39;00m \u001b[38;5;21;01mdask\u001b[39;00m\u001b[38;5;21;01m.\u001b[39;00m\u001b[38;5;21;01mbackends\u001b[39;00m \u001b[38;5;28;01mimport\u001b[39;00m CreationDispatch, DaskBackendEntrypoint\n\u001b[1;32m     14\u001b[0m \u001b[38;5;28;01mfrom\u001b[39;00m \u001b[38;5;21;01mdask\u001b[39;00m\u001b[38;5;21;01m.\u001b[39;00m\u001b[38;5;21;01mdataframe\u001b[39;00m\u001b[38;5;21;01m.\u001b[39;00m\u001b[38;5;21;01m_compat\u001b[39;00m \u001b[38;5;28;01mimport\u001b[39;00m is_any_real_numeric_dtype\n\u001b[0;32m---> 15\u001b[0m \u001b[38;5;28;01mfrom\u001b[39;00m \u001b[38;5;21;01mdask\u001b[39;00m\u001b[38;5;21;01m.\u001b[39;00m\u001b[38;5;21;01mdataframe\u001b[39;00m\u001b[38;5;21;01m.\u001b[39;00m\u001b[38;5;21;01mcore\u001b[39;00m \u001b[38;5;28;01mimport\u001b[39;00m DataFrame, Index, Scalar, Series, _Frame\n\u001b[1;32m     16\u001b[0m \u001b[38;5;28;01mfrom\u001b[39;00m \u001b[38;5;21;01mdask\u001b[39;00m\u001b[38;5;21;01m.\u001b[39;00m\u001b[38;5;21;01mdataframe\u001b[39;00m\u001b[38;5;21;01m.\u001b[39;00m\u001b[38;5;21;01mdispatch\u001b[39;00m \u001b[38;5;28;01mimport\u001b[39;00m (\n\u001b[1;32m     17\u001b[0m     categorical_dtype_dispatch,\n\u001b[1;32m     18\u001b[0m     concat,\n\u001b[0;32m   (...)\u001b[0m\n\u001b[1;32m     35\u001b[0m     union_categoricals_dispatch,\n\u001b[1;32m     36\u001b[0m )\n\u001b[1;32m     37\u001b[0m \u001b[38;5;28;01mfrom\u001b[39;00m \u001b[38;5;21;01mdask\u001b[39;00m\u001b[38;5;21;01m.\u001b[39;00m\u001b[38;5;21;01mdataframe\u001b[39;00m\u001b[38;5;21;01m.\u001b[39;00m\u001b[38;5;21;01mextensions\u001b[39;00m \u001b[38;5;28;01mimport\u001b[39;00m make_array_nonempty, make_scalar\n",
      "File \u001b[0;32m~/anaconda3/lib/python3.11/site-packages/dask/dataframe/core.py:36\u001b[0m\n\u001b[1;32m     34\u001b[0m \u001b[38;5;28;01mfrom\u001b[39;00m \u001b[38;5;21;01mdask\u001b[39;00m\u001b[38;5;21;01m.\u001b[39;00m\u001b[38;5;21;01mblockwise\u001b[39;00m \u001b[38;5;28;01mimport\u001b[39;00m Blockwise, BlockwiseDep, BlockwiseDepDict, blockwise\n\u001b[1;32m     35\u001b[0m \u001b[38;5;28;01mfrom\u001b[39;00m \u001b[38;5;21;01mdask\u001b[39;00m\u001b[38;5;21;01m.\u001b[39;00m\u001b[38;5;21;01mcontext\u001b[39;00m \u001b[38;5;28;01mimport\u001b[39;00m globalmethod\n\u001b[0;32m---> 36\u001b[0m \u001b[38;5;28;01mfrom\u001b[39;00m \u001b[38;5;21;01mdask\u001b[39;00m\u001b[38;5;21;01m.\u001b[39;00m\u001b[38;5;21;01mdataframe\u001b[39;00m \u001b[38;5;28;01mimport\u001b[39;00m methods\n\u001b[1;32m     37\u001b[0m \u001b[38;5;28;01mfrom\u001b[39;00m \u001b[38;5;21;01mdask\u001b[39;00m\u001b[38;5;21;01m.\u001b[39;00m\u001b[38;5;21;01mdataframe\u001b[39;00m\u001b[38;5;21;01m.\u001b[39;00m\u001b[38;5;21;01m_compat\u001b[39;00m \u001b[38;5;28;01mimport\u001b[39;00m (\n\u001b[1;32m     38\u001b[0m     PANDAS_GE_140,\n\u001b[1;32m     39\u001b[0m     PANDAS_GE_150,\n\u001b[0;32m   (...)\u001b[0m\n\u001b[1;32m     47\u001b[0m     is_string_dtype,\n\u001b[1;32m     48\u001b[0m )\n\u001b[1;32m     49\u001b[0m \u001b[38;5;28;01mfrom\u001b[39;00m \u001b[38;5;21;01mdask\u001b[39;00m\u001b[38;5;21;01m.\u001b[39;00m\u001b[38;5;21;01mdataframe\u001b[39;00m\u001b[38;5;21;01m.\u001b[39;00m\u001b[38;5;21;01maccessor\u001b[39;00m \u001b[38;5;28;01mimport\u001b[39;00m CachedAccessor, DatetimeAccessor, StringAccessor\n",
      "File \u001b[0;32m~/anaconda3/lib/python3.11/site-packages/dask/dataframe/methods.py:34\u001b[0m\n\u001b[1;32m     22\u001b[0m \u001b[38;5;66;03m#  preserve compatibility while moving dispatch objects\u001b[39;00m\n\u001b[1;32m     23\u001b[0m \u001b[38;5;28;01mfrom\u001b[39;00m \u001b[38;5;21;01mdask\u001b[39;00m\u001b[38;5;21;01m.\u001b[39;00m\u001b[38;5;21;01mdataframe\u001b[39;00m\u001b[38;5;21;01m.\u001b[39;00m\u001b[38;5;21;01mdispatch\u001b[39;00m \u001b[38;5;28;01mimport\u001b[39;00m (  \u001b[38;5;66;03m# noqa: F401\u001b[39;00m\n\u001b[1;32m     24\u001b[0m     concat,\n\u001b[1;32m     25\u001b[0m     concat_dispatch,\n\u001b[0;32m   (...)\u001b[0m\n\u001b[1;32m     32\u001b[0m     union_categoricals,\n\u001b[1;32m     33\u001b[0m )\n\u001b[0;32m---> 34\u001b[0m \u001b[38;5;28;01mfrom\u001b[39;00m \u001b[38;5;21;01mdask\u001b[39;00m\u001b[38;5;21;01m.\u001b[39;00m\u001b[38;5;21;01mdataframe\u001b[39;00m\u001b[38;5;21;01m.\u001b[39;00m\u001b[38;5;21;01mutils\u001b[39;00m \u001b[38;5;28;01mimport\u001b[39;00m is_dataframe_like, is_index_like, is_series_like\n\u001b[1;32m     36\u001b[0m \u001b[38;5;66;03m# cuDF may try to import old dispatch functions\u001b[39;00m\n\u001b[1;32m     37\u001b[0m hash_df \u001b[38;5;241m=\u001b[39m hash_object_dispatch\n",
      "File \u001b[0;32m~/anaconda3/lib/python3.11/site-packages/dask/dataframe/utils.py:20\u001b[0m\n\u001b[1;32m     18\u001b[0m \u001b[38;5;28;01mfrom\u001b[39;00m \u001b[38;5;21;01mdask\u001b[39;00m\u001b[38;5;21;01m.\u001b[39;00m\u001b[38;5;21;01mbase\u001b[39;00m \u001b[38;5;28;01mimport\u001b[39;00m get_scheduler, is_dask_collection\n\u001b[1;32m     19\u001b[0m \u001b[38;5;28;01mfrom\u001b[39;00m \u001b[38;5;21;01mdask\u001b[39;00m\u001b[38;5;21;01m.\u001b[39;00m\u001b[38;5;21;01mcore\u001b[39;00m \u001b[38;5;28;01mimport\u001b[39;00m get_deps\n\u001b[0;32m---> 20\u001b[0m \u001b[38;5;28;01mfrom\u001b[39;00m \u001b[38;5;21;01mdask\u001b[39;00m\u001b[38;5;21;01m.\u001b[39;00m\u001b[38;5;21;01mdataframe\u001b[39;00m \u001b[38;5;28;01mimport\u001b[39;00m (  \u001b[38;5;66;03m# noqa: F401 register pandas extension types\u001b[39;00m\n\u001b[1;32m     21\u001b[0m     _dtypes,\n\u001b[1;32m     22\u001b[0m     methods,\n\u001b[1;32m     23\u001b[0m )\n\u001b[1;32m     24\u001b[0m \u001b[38;5;28;01mfrom\u001b[39;00m \u001b[38;5;21;01mdask\u001b[39;00m\u001b[38;5;21;01m.\u001b[39;00m\u001b[38;5;21;01mdataframe\u001b[39;00m\u001b[38;5;21;01m.\u001b[39;00m\u001b[38;5;21;01m_compat\u001b[39;00m \u001b[38;5;28;01mimport\u001b[39;00m PANDAS_GE_150, tm  \u001b[38;5;66;03m# noqa: F401\u001b[39;00m\n\u001b[1;32m     25\u001b[0m \u001b[38;5;28;01mfrom\u001b[39;00m \u001b[38;5;21;01mdask\u001b[39;00m\u001b[38;5;21;01m.\u001b[39;00m\u001b[38;5;21;01mdataframe\u001b[39;00m\u001b[38;5;21;01m.\u001b[39;00m\u001b[38;5;21;01mdispatch\u001b[39;00m \u001b[38;5;28;01mimport\u001b[39;00m (  \u001b[38;5;66;03m# noqa : F401\u001b[39;00m\n\u001b[1;32m     26\u001b[0m     make_meta,\n\u001b[1;32m     27\u001b[0m     make_meta_obj,\n\u001b[1;32m     28\u001b[0m     meta_nonempty,\n\u001b[1;32m     29\u001b[0m )\n",
      "File \u001b[0;32m~/anaconda3/lib/python3.11/site-packages/dask/dataframe/_dtypes.py:9\u001b[0m\n\u001b[1;32m      6\u001b[0m \u001b[38;5;28;01mimport\u001b[39;00m \u001b[38;5;21;01mpandas\u001b[39;00m \u001b[38;5;28;01mas\u001b[39;00m \u001b[38;5;21;01mpd\u001b[39;00m\n\u001b[1;32m      8\u001b[0m \u001b[38;5;28;01mfrom\u001b[39;00m \u001b[38;5;21;01mdask\u001b[39;00m\u001b[38;5;21;01m.\u001b[39;00m\u001b[38;5;21;01mdataframe\u001b[39;00m\u001b[38;5;21;01m.\u001b[39;00m\u001b[38;5;21;01m_compat\u001b[39;00m \u001b[38;5;28;01mimport\u001b[39;00m PANDAS_GE_150\n\u001b[0;32m----> 9\u001b[0m \u001b[38;5;28;01mfrom\u001b[39;00m \u001b[38;5;21;01mdask\u001b[39;00m\u001b[38;5;21;01m.\u001b[39;00m\u001b[38;5;21;01mdataframe\u001b[39;00m\u001b[38;5;21;01m.\u001b[39;00m\u001b[38;5;21;01mextensions\u001b[39;00m \u001b[38;5;28;01mimport\u001b[39;00m make_array_nonempty, make_scalar\n\u001b[1;32m     12\u001b[0m \u001b[38;5;129m@make_array_nonempty\u001b[39m\u001b[38;5;241m.\u001b[39mregister(pd\u001b[38;5;241m.\u001b[39mDatetimeTZDtype)\n\u001b[1;32m     13\u001b[0m \u001b[38;5;28;01mdef\u001b[39;00m \u001b[38;5;21m_\u001b[39m(dtype):\n\u001b[1;32m     14\u001b[0m     \u001b[38;5;28;01mreturn\u001b[39;00m pd\u001b[38;5;241m.\u001b[39marray([pd\u001b[38;5;241m.\u001b[39mTimestamp(\u001b[38;5;241m1\u001b[39m), pd\u001b[38;5;241m.\u001b[39mNaT], dtype\u001b[38;5;241m=\u001b[39mdtype)\n",
      "File \u001b[0;32m~/anaconda3/lib/python3.11/site-packages/dask/dataframe/extensions.py:8\u001b[0m\n\u001b[1;32m      1\u001b[0m \u001b[38;5;124;03m\"\"\"\u001b[39;00m\n\u001b[1;32m      2\u001b[0m \u001b[38;5;124;03mSupport for pandas ExtensionArray in dask.dataframe.\u001b[39;00m\n\u001b[1;32m      3\u001b[0m \n\u001b[1;32m      4\u001b[0m \u001b[38;5;124;03mSee :ref:`extensionarrays` for more.\u001b[39;00m\n\u001b[1;32m      5\u001b[0m \u001b[38;5;124;03m\"\"\"\u001b[39;00m\n\u001b[1;32m      6\u001b[0m \u001b[38;5;28;01mfrom\u001b[39;00m \u001b[38;5;21;01m__future__\u001b[39;00m \u001b[38;5;28;01mimport\u001b[39;00m annotations\n\u001b[0;32m----> 8\u001b[0m \u001b[38;5;28;01mfrom\u001b[39;00m \u001b[38;5;21;01mdask\u001b[39;00m\u001b[38;5;21;01m.\u001b[39;00m\u001b[38;5;21;01mdataframe\u001b[39;00m\u001b[38;5;21;01m.\u001b[39;00m\u001b[38;5;21;01maccessor\u001b[39;00m \u001b[38;5;28;01mimport\u001b[39;00m (\n\u001b[1;32m      9\u001b[0m     register_dataframe_accessor,\n\u001b[1;32m     10\u001b[0m     register_index_accessor,\n\u001b[1;32m     11\u001b[0m     register_series_accessor,\n\u001b[1;32m     12\u001b[0m )\n\u001b[1;32m     13\u001b[0m \u001b[38;5;28;01mfrom\u001b[39;00m \u001b[38;5;21;01mdask\u001b[39;00m\u001b[38;5;21;01m.\u001b[39;00m\u001b[38;5;21;01mutils\u001b[39;00m \u001b[38;5;28;01mimport\u001b[39;00m Dispatch\n\u001b[1;32m     15\u001b[0m make_array_nonempty \u001b[38;5;241m=\u001b[39m Dispatch(\u001b[38;5;124m\"\u001b[39m\u001b[38;5;124mmake_array_nonempty\u001b[39m\u001b[38;5;124m\"\u001b[39m)\n",
      "File \u001b[0;32m~/anaconda3/lib/python3.11/site-packages/dask/dataframe/accessor.py:126\u001b[0m\n\u001b[1;32m    113\u001b[0m         token \u001b[38;5;241m=\u001b[39m \u001b[38;5;124mf\u001b[39m\u001b[38;5;124m\"\u001b[39m\u001b[38;5;132;01m{\u001b[39;00m\u001b[38;5;28mself\u001b[39m\u001b[38;5;241m.\u001b[39m_accessor_name\u001b[38;5;132;01m}\u001b[39;00m\u001b[38;5;124m-\u001b[39m\u001b[38;5;132;01m{\u001b[39;00mattr\u001b[38;5;132;01m}\u001b[39;00m\u001b[38;5;124m\"\u001b[39m\n\u001b[1;32m    114\u001b[0m         \u001b[38;5;28;01mreturn\u001b[39;00m \u001b[38;5;28mself\u001b[39m\u001b[38;5;241m.\u001b[39m_series\u001b[38;5;241m.\u001b[39mmap_partitions(\n\u001b[1;32m    115\u001b[0m             \u001b[38;5;28mself\u001b[39m\u001b[38;5;241m.\u001b[39m_delegate_method,\n\u001b[1;32m    116\u001b[0m             \u001b[38;5;28mself\u001b[39m\u001b[38;5;241m.\u001b[39m_accessor_name,\n\u001b[0;32m   (...)\u001b[0m\n\u001b[1;32m    122\u001b[0m             token\u001b[38;5;241m=\u001b[39mtoken,\n\u001b[1;32m    123\u001b[0m         )\n\u001b[0;32m--> 126\u001b[0m \u001b[38;5;28;01mclass\u001b[39;00m \u001b[38;5;21;01mDatetimeAccessor\u001b[39;00m(Accessor):\n\u001b[1;32m    127\u001b[0m \u001b[38;5;250m    \u001b[39m\u001b[38;5;124;03m\"\"\"Accessor object for datetimelike properties of the Series values.\u001b[39;00m\n\u001b[1;32m    128\u001b[0m \n\u001b[1;32m    129\u001b[0m \u001b[38;5;124;03m    Examples\u001b[39;00m\n\u001b[0;32m   (...)\u001b[0m\n\u001b[1;32m    132\u001b[0m \u001b[38;5;124;03m    >>> s.dt.microsecond  # doctest: +SKIP\u001b[39;00m\n\u001b[1;32m    133\u001b[0m \u001b[38;5;124;03m    \"\"\"\u001b[39;00m\n\u001b[1;32m    135\u001b[0m     _accessor_name \u001b[38;5;241m=\u001b[39m \u001b[38;5;124m\"\u001b[39m\u001b[38;5;124mdt\u001b[39m\u001b[38;5;124m\"\u001b[39m\n",
      "File \u001b[0;32m~/anaconda3/lib/python3.11/site-packages/dask/dataframe/accessor.py:81\u001b[0m, in \u001b[0;36mAccessor.__init_subclass__\u001b[0;34m(cls, **kwargs)\u001b[0m\n\u001b[1;32m     79\u001b[0m attr, min_version \u001b[38;5;241m=\u001b[39m item \u001b[38;5;28;01mif\u001b[39;00m \u001b[38;5;28misinstance\u001b[39m(item, \u001b[38;5;28mtuple\u001b[39m) \u001b[38;5;28;01melse\u001b[39;00m (item, \u001b[38;5;28;01mNone\u001b[39;00m)\n\u001b[1;32m     80\u001b[0m \u001b[38;5;28;01mif\u001b[39;00m \u001b[38;5;129;01mnot\u001b[39;00m \u001b[38;5;28mhasattr\u001b[39m(\u001b[38;5;28mcls\u001b[39m, attr):\n\u001b[0;32m---> 81\u001b[0m     _bind_property(\u001b[38;5;28mcls\u001b[39m, pd_cls, attr, min_version)\n",
      "File \u001b[0;32m~/anaconda3/lib/python3.11/site-packages/dask/dataframe/accessor.py:35\u001b[0m, in \u001b[0;36m_bind_property\u001b[0;34m(cls, pd_cls, attr, min_version)\u001b[0m\n\u001b[1;32m     33\u001b[0m \u001b[38;5;28;01mexcept\u001b[39;00m \u001b[38;5;167;01mException\u001b[39;00m:\n\u001b[1;32m     34\u001b[0m     \u001b[38;5;28;01mpass\u001b[39;00m\n\u001b[0;32m---> 35\u001b[0m \u001b[38;5;28msetattr\u001b[39m(\u001b[38;5;28mcls\u001b[39m, attr, \u001b[38;5;28mproperty\u001b[39m(derived_from(pd_cls, version\u001b[38;5;241m=\u001b[39mmin_version)(func)))\n",
      "File \u001b[0;32m~/anaconda3/lib/python3.11/site-packages/dask/utils.py:856\u001b[0m, in \u001b[0;36mderived_from.<locals>.wrapper\u001b[0;34m(method)\u001b[0m\n\u001b[1;32m    854\u001b[0m \u001b[38;5;28;01mtry\u001b[39;00m:\n\u001b[1;32m    855\u001b[0m     extra \u001b[38;5;241m=\u001b[39m \u001b[38;5;28mgetattr\u001b[39m(method, \u001b[38;5;124m\"\u001b[39m\u001b[38;5;124m__doc__\u001b[39m\u001b[38;5;124m\"\u001b[39m, \u001b[38;5;28;01mNone\u001b[39;00m) \u001b[38;5;129;01mor\u001b[39;00m \u001b[38;5;124m\"\u001b[39m\u001b[38;5;124m\"\u001b[39m\n\u001b[0;32m--> 856\u001b[0m     method\u001b[38;5;241m.\u001b[39m\u001b[38;5;18m__doc__\u001b[39m \u001b[38;5;241m=\u001b[39m _derived_from(\n\u001b[1;32m    857\u001b[0m         original_klass,\n\u001b[1;32m    858\u001b[0m         method,\n\u001b[1;32m    859\u001b[0m         ua_args\u001b[38;5;241m=\u001b[39mua_args,\n\u001b[1;32m    860\u001b[0m         extra\u001b[38;5;241m=\u001b[39mextra,\n\u001b[1;32m    861\u001b[0m         skipblocks\u001b[38;5;241m=\u001b[39mskipblocks,\n\u001b[1;32m    862\u001b[0m         inconsistencies\u001b[38;5;241m=\u001b[39minconsistencies,\n\u001b[1;32m    863\u001b[0m     )\n\u001b[1;32m    864\u001b[0m     \u001b[38;5;28;01mreturn\u001b[39;00m method\n\u001b[1;32m    866\u001b[0m \u001b[38;5;28;01mexcept\u001b[39;00m \u001b[38;5;167;01mAttributeError\u001b[39;00m:\n",
      "File \u001b[0;32m~/anaconda3/lib/python3.11/site-packages/dask/utils.py:809\u001b[0m, in \u001b[0;36m_derived_from\u001b[0;34m(cls, method, ua_args, extra, skipblocks, inconsistencies)\u001b[0m\n\u001b[1;32m    807\u001b[0m \u001b[38;5;66;03m# Mark unsupported arguments\u001b[39;00m\n\u001b[1;32m    808\u001b[0m \u001b[38;5;28;01mtry\u001b[39;00m:\n\u001b[0;32m--> 809\u001b[0m     method_args \u001b[38;5;241m=\u001b[39m get_named_args(method)\n\u001b[1;32m    810\u001b[0m     original_args \u001b[38;5;241m=\u001b[39m get_named_args(original_method)\n\u001b[1;32m    811\u001b[0m     not_supported \u001b[38;5;241m=\u001b[39m [m \u001b[38;5;28;01mfor\u001b[39;00m m \u001b[38;5;129;01min\u001b[39;00m original_args \u001b[38;5;28;01mif\u001b[39;00m m \u001b[38;5;129;01mnot\u001b[39;00m \u001b[38;5;129;01min\u001b[39;00m method_args]\n",
      "File \u001b[0;32m~/anaconda3/lib/python3.11/site-packages/dask/utils.py:570\u001b[0m, in \u001b[0;36mget_named_args\u001b[0;34m(func)\u001b[0m\n\u001b[1;32m    568\u001b[0m \u001b[38;5;28;01mdef\u001b[39;00m \u001b[38;5;21mget_named_args\u001b[39m(func) \u001b[38;5;241m-\u001b[39m\u001b[38;5;241m>\u001b[39m \u001b[38;5;28mlist\u001b[39m[\u001b[38;5;28mstr\u001b[39m]:\n\u001b[1;32m    569\u001b[0m \u001b[38;5;250m    \u001b[39m\u001b[38;5;124;03m\"\"\"Get all non ``*args/**kwargs`` arguments for a function\"\"\"\u001b[39;00m\n\u001b[0;32m--> 570\u001b[0m     s \u001b[38;5;241m=\u001b[39m inspect\u001b[38;5;241m.\u001b[39msignature(func)\n\u001b[1;32m    571\u001b[0m     \u001b[38;5;28;01mreturn\u001b[39;00m [\n\u001b[1;32m    572\u001b[0m         n\n\u001b[1;32m    573\u001b[0m         \u001b[38;5;28;01mfor\u001b[39;00m n, p \u001b[38;5;129;01min\u001b[39;00m s\u001b[38;5;241m.\u001b[39mparameters\u001b[38;5;241m.\u001b[39mitems()\n\u001b[1;32m    574\u001b[0m         \u001b[38;5;28;01mif\u001b[39;00m p\u001b[38;5;241m.\u001b[39mkind \u001b[38;5;129;01min\u001b[39;00m [p\u001b[38;5;241m.\u001b[39mPOSITIONAL_OR_KEYWORD, p\u001b[38;5;241m.\u001b[39mPOSITIONAL_ONLY, p\u001b[38;5;241m.\u001b[39mKEYWORD_ONLY]\n\u001b[1;32m    575\u001b[0m     ]\n",
      "File \u001b[0;32m~/anaconda3/lib/python3.11/inspect.py:3263\u001b[0m, in \u001b[0;36msignature\u001b[0;34m(obj, follow_wrapped, globals, locals, eval_str)\u001b[0m\n\u001b[1;32m   3261\u001b[0m \u001b[38;5;28;01mdef\u001b[39;00m \u001b[38;5;21msignature\u001b[39m(obj, \u001b[38;5;241m*\u001b[39m, follow_wrapped\u001b[38;5;241m=\u001b[39m\u001b[38;5;28;01mTrue\u001b[39;00m, \u001b[38;5;28mglobals\u001b[39m\u001b[38;5;241m=\u001b[39m\u001b[38;5;28;01mNone\u001b[39;00m, \u001b[38;5;28mlocals\u001b[39m\u001b[38;5;241m=\u001b[39m\u001b[38;5;28;01mNone\u001b[39;00m, eval_str\u001b[38;5;241m=\u001b[39m\u001b[38;5;28;01mFalse\u001b[39;00m):\n\u001b[1;32m   3262\u001b[0m \u001b[38;5;250m    \u001b[39m\u001b[38;5;124;03m\"\"\"Get a signature object for the passed callable.\"\"\"\u001b[39;00m\n\u001b[0;32m-> 3263\u001b[0m     \u001b[38;5;28;01mreturn\u001b[39;00m Signature\u001b[38;5;241m.\u001b[39mfrom_callable(obj, follow_wrapped\u001b[38;5;241m=\u001b[39mfollow_wrapped,\n\u001b[1;32m   3264\u001b[0m                                    \u001b[38;5;28mglobals\u001b[39m\u001b[38;5;241m=\u001b[39m\u001b[38;5;28mglobals\u001b[39m, \u001b[38;5;28mlocals\u001b[39m\u001b[38;5;241m=\u001b[39m\u001b[38;5;28mlocals\u001b[39m, eval_str\u001b[38;5;241m=\u001b[39meval_str)\n",
      "File \u001b[0;32m~/anaconda3/lib/python3.11/inspect.py:3011\u001b[0m, in \u001b[0;36mSignature.from_callable\u001b[0;34m(cls, obj, follow_wrapped, globals, locals, eval_str)\u001b[0m\n\u001b[1;32m   3007\u001b[0m \u001b[38;5;129m@classmethod\u001b[39m\n\u001b[1;32m   3008\u001b[0m \u001b[38;5;28;01mdef\u001b[39;00m \u001b[38;5;21mfrom_callable\u001b[39m(\u001b[38;5;28mcls\u001b[39m, obj, \u001b[38;5;241m*\u001b[39m,\n\u001b[1;32m   3009\u001b[0m                   follow_wrapped\u001b[38;5;241m=\u001b[39m\u001b[38;5;28;01mTrue\u001b[39;00m, \u001b[38;5;28mglobals\u001b[39m\u001b[38;5;241m=\u001b[39m\u001b[38;5;28;01mNone\u001b[39;00m, \u001b[38;5;28mlocals\u001b[39m\u001b[38;5;241m=\u001b[39m\u001b[38;5;28;01mNone\u001b[39;00m, eval_str\u001b[38;5;241m=\u001b[39m\u001b[38;5;28;01mFalse\u001b[39;00m):\n\u001b[1;32m   3010\u001b[0m \u001b[38;5;250m    \u001b[39m\u001b[38;5;124;03m\"\"\"Constructs Signature for the given callable object.\"\"\"\u001b[39;00m\n\u001b[0;32m-> 3011\u001b[0m     \u001b[38;5;28;01mreturn\u001b[39;00m _signature_from_callable(obj, sigcls\u001b[38;5;241m=\u001b[39m\u001b[38;5;28mcls\u001b[39m,\n\u001b[1;32m   3012\u001b[0m                                     follow_wrapper_chains\u001b[38;5;241m=\u001b[39mfollow_wrapped,\n\u001b[1;32m   3013\u001b[0m                                     \u001b[38;5;28mglobals\u001b[39m\u001b[38;5;241m=\u001b[39m\u001b[38;5;28mglobals\u001b[39m, \u001b[38;5;28mlocals\u001b[39m\u001b[38;5;241m=\u001b[39m\u001b[38;5;28mlocals\u001b[39m, eval_str\u001b[38;5;241m=\u001b[39meval_str)\n",
      "File \u001b[0;32m~/anaconda3/lib/python3.11/inspect.py:2599\u001b[0m, in \u001b[0;36m_signature_from_callable\u001b[0;34m(obj, follow_wrapper_chains, skip_bound_arg, globals, locals, eval_str, sigcls)\u001b[0m\n\u001b[1;32m   2597\u001b[0m     call \u001b[38;5;241m=\u001b[39m getattr_static(\u001b[38;5;28mtype\u001b[39m(obj), \u001b[38;5;124m'\u001b[39m\u001b[38;5;124m__call__\u001b[39m\u001b[38;5;124m'\u001b[39m, \u001b[38;5;28;01mNone\u001b[39;00m)\n\u001b[1;32m   2598\u001b[0m     \u001b[38;5;28;01mif\u001b[39;00m call \u001b[38;5;129;01mis\u001b[39;00m \u001b[38;5;129;01mnot\u001b[39;00m \u001b[38;5;28;01mNone\u001b[39;00m:\n\u001b[0;32m-> 2599\u001b[0m         call \u001b[38;5;241m=\u001b[39m _descriptor_get(call, obj)\n\u001b[1;32m   2600\u001b[0m         \u001b[38;5;28;01mreturn\u001b[39;00m _get_signature_of(call)\n\u001b[1;32m   2602\u001b[0m \u001b[38;5;28;01mraise\u001b[39;00m \u001b[38;5;167;01mValueError\u001b[39;00m(\u001b[38;5;124m'\u001b[39m\u001b[38;5;124mcallable \u001b[39m\u001b[38;5;132;01m{!r}\u001b[39;00m\u001b[38;5;124m is not supported by signature\u001b[39m\u001b[38;5;124m'\u001b[39m\u001b[38;5;241m.\u001b[39mformat(obj))\n",
      "File \u001b[0;32m~/anaconda3/lib/python3.11/inspect.py:2432\u001b[0m, in \u001b[0;36m_descriptor_get\u001b[0;34m(descriptor, obj)\u001b[0m\n\u001b[1;32m   2430\u001b[0m \u001b[38;5;28;01mif\u001b[39;00m get \u001b[38;5;129;01mis\u001b[39;00m _sentinel:\n\u001b[1;32m   2431\u001b[0m     \u001b[38;5;28;01mreturn\u001b[39;00m descriptor\n\u001b[0;32m-> 2432\u001b[0m \u001b[38;5;28;01mreturn\u001b[39;00m get(descriptor, obj, \u001b[38;5;28mtype\u001b[39m(obj))\n",
      "\u001b[0;31mTypeError\u001b[0m: descriptor '__call__' for 'type' objects doesn't apply to a 'property' object"
     ]
    }
   ],
   "source": [
    "import numpy as np\n",
    "import pandas as pd\n",
    "import matplotlib.pyplot as plt\n",
    "import seaborn as sns\n",
    "from sklearn.model_selection import train_test_split\n",
    "from sklearn.preprocessing import StandardScaler\n",
    "from sklearn.model_selection import GridSearchCV\n",
    "from sklearn.metrics import accuracy_score, precision_score, recall_score, f1_score, \\\n",
    "roc_auc_score, roc_curve, confusion_matrix, cohen_kappa_score, confusion_matrix\n",
    "\n",
    "import torch\n",
    "import torch.nn as nn\n",
    "import torch.nn.functional as F\n",
    "import torch.optim as optim\n",
    "from torch.utils.data import Dataset, DataLoader\n",
    "import random\n",
    "\n",
    "from sklearn.ensemble import StackingClassifier\n",
    "from sklearn.ensemble import AdaBoostClassifier\n",
    "from sklearn.linear_model import LogisticRegression\n",
    "from sklearn.tree import DecisionTreeClassifier\n",
    "from sklearn.neighbors import KNeighborsClassifier\n",
    "from sklearn.ensemble import RandomForestClassifier\n",
    "from sklearn.ensemble import GradientBoostingClassifier\n",
    "from sklearn.svm import SVC\n",
    "import xgboost as xgb\n",
    "import lightgbm as lgb\n",
    "from sklearn.naive_bayes import GaussianNB"
   ]
  },
  {
   "cell_type": "markdown",
   "id": "d7dca31b-30f6-4886-8a86-5b1daccba505",
   "metadata": {},
   "source": [
    "# Data Preprocessing"
   ]
  },
  {
   "cell_type": "code",
   "execution_count": 2,
   "id": "cb14e860-4f57-47f4-9010-625876e5fb47",
   "metadata": {
    "tags": []
   },
   "outputs": [
    {
     "data": {
      "text/html": [
       "<div>\n",
       "<style scoped>\n",
       "    .dataframe tbody tr th:only-of-type {\n",
       "        vertical-align: middle;\n",
       "    }\n",
       "\n",
       "    .dataframe tbody tr th {\n",
       "        vertical-align: top;\n",
       "    }\n",
       "\n",
       "    .dataframe thead th {\n",
       "        text-align: right;\n",
       "    }\n",
       "</style>\n",
       "<table border=\"1\" class=\"dataframe\">\n",
       "  <thead>\n",
       "    <tr style=\"text-align: right;\">\n",
       "      <th></th>\n",
       "      <th>id</th>\n",
       "      <th>gender</th>\n",
       "      <th>PPE</th>\n",
       "      <th>DFA</th>\n",
       "      <th>RPDE</th>\n",
       "      <th>numPulses</th>\n",
       "      <th>numPeriodsPulses</th>\n",
       "      <th>meanPeriodPulses</th>\n",
       "      <th>stdDevPeriodPulses</th>\n",
       "      <th>locPctJitter</th>\n",
       "      <th>...</th>\n",
       "      <th>tqwt_kurtosisValue_dec_28</th>\n",
       "      <th>tqwt_kurtosisValue_dec_29</th>\n",
       "      <th>tqwt_kurtosisValue_dec_30</th>\n",
       "      <th>tqwt_kurtosisValue_dec_31</th>\n",
       "      <th>tqwt_kurtosisValue_dec_32</th>\n",
       "      <th>tqwt_kurtosisValue_dec_33</th>\n",
       "      <th>tqwt_kurtosisValue_dec_34</th>\n",
       "      <th>tqwt_kurtosisValue_dec_35</th>\n",
       "      <th>tqwt_kurtosisValue_dec_36</th>\n",
       "      <th>class</th>\n",
       "    </tr>\n",
       "  </thead>\n",
       "  <tbody>\n",
       "    <tr>\n",
       "      <th>0</th>\n",
       "      <td>0</td>\n",
       "      <td>1</td>\n",
       "      <td>0.85247</td>\n",
       "      <td>0.71826</td>\n",
       "      <td>0.57227</td>\n",
       "      <td>240</td>\n",
       "      <td>239</td>\n",
       "      <td>0.008064</td>\n",
       "      <td>0.000087</td>\n",
       "      <td>0.00218</td>\n",
       "      <td>...</td>\n",
       "      <td>1.5620</td>\n",
       "      <td>2.6445</td>\n",
       "      <td>3.8686</td>\n",
       "      <td>4.2105</td>\n",
       "      <td>5.1221</td>\n",
       "      <td>4.4625</td>\n",
       "      <td>2.6202</td>\n",
       "      <td>3.0004</td>\n",
       "      <td>18.9405</td>\n",
       "      <td>1</td>\n",
       "    </tr>\n",
       "    <tr>\n",
       "      <th>1</th>\n",
       "      <td>0</td>\n",
       "      <td>1</td>\n",
       "      <td>0.76686</td>\n",
       "      <td>0.69481</td>\n",
       "      <td>0.53966</td>\n",
       "      <td>234</td>\n",
       "      <td>233</td>\n",
       "      <td>0.008258</td>\n",
       "      <td>0.000073</td>\n",
       "      <td>0.00195</td>\n",
       "      <td>...</td>\n",
       "      <td>1.5589</td>\n",
       "      <td>3.6107</td>\n",
       "      <td>23.5155</td>\n",
       "      <td>14.1962</td>\n",
       "      <td>11.0261</td>\n",
       "      <td>9.5082</td>\n",
       "      <td>6.5245</td>\n",
       "      <td>6.3431</td>\n",
       "      <td>45.1780</td>\n",
       "      <td>1</td>\n",
       "    </tr>\n",
       "    <tr>\n",
       "      <th>2</th>\n",
       "      <td>0</td>\n",
       "      <td>1</td>\n",
       "      <td>0.85083</td>\n",
       "      <td>0.67604</td>\n",
       "      <td>0.58982</td>\n",
       "      <td>232</td>\n",
       "      <td>231</td>\n",
       "      <td>0.008340</td>\n",
       "      <td>0.000060</td>\n",
       "      <td>0.00176</td>\n",
       "      <td>...</td>\n",
       "      <td>1.5643</td>\n",
       "      <td>2.3308</td>\n",
       "      <td>9.4959</td>\n",
       "      <td>10.7458</td>\n",
       "      <td>11.0177</td>\n",
       "      <td>4.8066</td>\n",
       "      <td>2.9199</td>\n",
       "      <td>3.1495</td>\n",
       "      <td>4.7666</td>\n",
       "      <td>1</td>\n",
       "    </tr>\n",
       "    <tr>\n",
       "      <th>3</th>\n",
       "      <td>1</td>\n",
       "      <td>0</td>\n",
       "      <td>0.41121</td>\n",
       "      <td>0.79672</td>\n",
       "      <td>0.59257</td>\n",
       "      <td>178</td>\n",
       "      <td>177</td>\n",
       "      <td>0.010858</td>\n",
       "      <td>0.000183</td>\n",
       "      <td>0.00419</td>\n",
       "      <td>...</td>\n",
       "      <td>3.7805</td>\n",
       "      <td>3.5664</td>\n",
       "      <td>5.2558</td>\n",
       "      <td>14.0403</td>\n",
       "      <td>4.2235</td>\n",
       "      <td>4.6857</td>\n",
       "      <td>4.8460</td>\n",
       "      <td>6.2650</td>\n",
       "      <td>4.0603</td>\n",
       "      <td>1</td>\n",
       "    </tr>\n",
       "    <tr>\n",
       "      <th>4</th>\n",
       "      <td>1</td>\n",
       "      <td>0</td>\n",
       "      <td>0.32790</td>\n",
       "      <td>0.79782</td>\n",
       "      <td>0.53028</td>\n",
       "      <td>236</td>\n",
       "      <td>235</td>\n",
       "      <td>0.008162</td>\n",
       "      <td>0.002669</td>\n",
       "      <td>0.00535</td>\n",
       "      <td>...</td>\n",
       "      <td>6.1727</td>\n",
       "      <td>5.8416</td>\n",
       "      <td>6.0805</td>\n",
       "      <td>5.7621</td>\n",
       "      <td>7.7817</td>\n",
       "      <td>11.6891</td>\n",
       "      <td>8.2103</td>\n",
       "      <td>5.0559</td>\n",
       "      <td>6.1164</td>\n",
       "      <td>1</td>\n",
       "    </tr>\n",
       "    <tr>\n",
       "      <th>...</th>\n",
       "      <td>...</td>\n",
       "      <td>...</td>\n",
       "      <td>...</td>\n",
       "      <td>...</td>\n",
       "      <td>...</td>\n",
       "      <td>...</td>\n",
       "      <td>...</td>\n",
       "      <td>...</td>\n",
       "      <td>...</td>\n",
       "      <td>...</td>\n",
       "      <td>...</td>\n",
       "      <td>...</td>\n",
       "      <td>...</td>\n",
       "      <td>...</td>\n",
       "      <td>...</td>\n",
       "      <td>...</td>\n",
       "      <td>...</td>\n",
       "      <td>...</td>\n",
       "      <td>...</td>\n",
       "      <td>...</td>\n",
       "      <td>...</td>\n",
       "    </tr>\n",
       "    <tr>\n",
       "      <th>751</th>\n",
       "      <td>250</td>\n",
       "      <td>0</td>\n",
       "      <td>0.80903</td>\n",
       "      <td>0.56355</td>\n",
       "      <td>0.28385</td>\n",
       "      <td>417</td>\n",
       "      <td>416</td>\n",
       "      <td>0.004627</td>\n",
       "      <td>0.000052</td>\n",
       "      <td>0.00064</td>\n",
       "      <td>...</td>\n",
       "      <td>3.0706</td>\n",
       "      <td>3.0190</td>\n",
       "      <td>3.1212</td>\n",
       "      <td>2.4921</td>\n",
       "      <td>3.5844</td>\n",
       "      <td>3.5400</td>\n",
       "      <td>3.3805</td>\n",
       "      <td>3.2003</td>\n",
       "      <td>6.8671</td>\n",
       "      <td>0</td>\n",
       "    </tr>\n",
       "    <tr>\n",
       "      <th>752</th>\n",
       "      <td>250</td>\n",
       "      <td>0</td>\n",
       "      <td>0.16084</td>\n",
       "      <td>0.56499</td>\n",
       "      <td>0.59194</td>\n",
       "      <td>415</td>\n",
       "      <td>413</td>\n",
       "      <td>0.004550</td>\n",
       "      <td>0.000220</td>\n",
       "      <td>0.00143</td>\n",
       "      <td>...</td>\n",
       "      <td>1.9704</td>\n",
       "      <td>1.7451</td>\n",
       "      <td>1.8277</td>\n",
       "      <td>2.4976</td>\n",
       "      <td>5.2981</td>\n",
       "      <td>4.2616</td>\n",
       "      <td>6.3042</td>\n",
       "      <td>10.9058</td>\n",
       "      <td>28.4170</td>\n",
       "      <td>0</td>\n",
       "    </tr>\n",
       "    <tr>\n",
       "      <th>753</th>\n",
       "      <td>251</td>\n",
       "      <td>0</td>\n",
       "      <td>0.88389</td>\n",
       "      <td>0.72335</td>\n",
       "      <td>0.46815</td>\n",
       "      <td>381</td>\n",
       "      <td>380</td>\n",
       "      <td>0.005069</td>\n",
       "      <td>0.000103</td>\n",
       "      <td>0.00076</td>\n",
       "      <td>...</td>\n",
       "      <td>51.5607</td>\n",
       "      <td>44.4641</td>\n",
       "      <td>26.1586</td>\n",
       "      <td>6.3076</td>\n",
       "      <td>2.8601</td>\n",
       "      <td>2.5361</td>\n",
       "      <td>3.5377</td>\n",
       "      <td>3.3545</td>\n",
       "      <td>5.0424</td>\n",
       "      <td>0</td>\n",
       "    </tr>\n",
       "    <tr>\n",
       "      <th>754</th>\n",
       "      <td>251</td>\n",
       "      <td>0</td>\n",
       "      <td>0.83782</td>\n",
       "      <td>0.74890</td>\n",
       "      <td>0.49823</td>\n",
       "      <td>340</td>\n",
       "      <td>339</td>\n",
       "      <td>0.005679</td>\n",
       "      <td>0.000055</td>\n",
       "      <td>0.00092</td>\n",
       "      <td>...</td>\n",
       "      <td>19.1607</td>\n",
       "      <td>12.8312</td>\n",
       "      <td>8.9434</td>\n",
       "      <td>2.2044</td>\n",
       "      <td>1.9496</td>\n",
       "      <td>1.9664</td>\n",
       "      <td>2.6801</td>\n",
       "      <td>2.8332</td>\n",
       "      <td>3.7131</td>\n",
       "      <td>0</td>\n",
       "    </tr>\n",
       "    <tr>\n",
       "      <th>755</th>\n",
       "      <td>251</td>\n",
       "      <td>0</td>\n",
       "      <td>0.81304</td>\n",
       "      <td>0.76471</td>\n",
       "      <td>0.46374</td>\n",
       "      <td>340</td>\n",
       "      <td>339</td>\n",
       "      <td>0.005676</td>\n",
       "      <td>0.000037</td>\n",
       "      <td>0.00078</td>\n",
       "      <td>...</td>\n",
       "      <td>62.9927</td>\n",
       "      <td>21.8152</td>\n",
       "      <td>9.2457</td>\n",
       "      <td>4.8555</td>\n",
       "      <td>3.0551</td>\n",
       "      <td>3.0415</td>\n",
       "      <td>4.0116</td>\n",
       "      <td>2.6217</td>\n",
       "      <td>3.1527</td>\n",
       "      <td>0</td>\n",
       "    </tr>\n",
       "  </tbody>\n",
       "</table>\n",
       "<p>756 rows × 755 columns</p>\n",
       "</div>"
      ],
      "text/plain": [
       "      id  gender      PPE      DFA     RPDE  numPulses  numPeriodsPulses  \\\n",
       "0      0       1  0.85247  0.71826  0.57227        240               239   \n",
       "1      0       1  0.76686  0.69481  0.53966        234               233   \n",
       "2      0       1  0.85083  0.67604  0.58982        232               231   \n",
       "3      1       0  0.41121  0.79672  0.59257        178               177   \n",
       "4      1       0  0.32790  0.79782  0.53028        236               235   \n",
       "..   ...     ...      ...      ...      ...        ...               ...   \n",
       "751  250       0  0.80903  0.56355  0.28385        417               416   \n",
       "752  250       0  0.16084  0.56499  0.59194        415               413   \n",
       "753  251       0  0.88389  0.72335  0.46815        381               380   \n",
       "754  251       0  0.83782  0.74890  0.49823        340               339   \n",
       "755  251       0  0.81304  0.76471  0.46374        340               339   \n",
       "\n",
       "     meanPeriodPulses  stdDevPeriodPulses  locPctJitter  ...  \\\n",
       "0            0.008064            0.000087       0.00218  ...   \n",
       "1            0.008258            0.000073       0.00195  ...   \n",
       "2            0.008340            0.000060       0.00176  ...   \n",
       "3            0.010858            0.000183       0.00419  ...   \n",
       "4            0.008162            0.002669       0.00535  ...   \n",
       "..                ...                 ...           ...  ...   \n",
       "751          0.004627            0.000052       0.00064  ...   \n",
       "752          0.004550            0.000220       0.00143  ...   \n",
       "753          0.005069            0.000103       0.00076  ...   \n",
       "754          0.005679            0.000055       0.00092  ...   \n",
       "755          0.005676            0.000037       0.00078  ...   \n",
       "\n",
       "     tqwt_kurtosisValue_dec_28  tqwt_kurtosisValue_dec_29  \\\n",
       "0                       1.5620                     2.6445   \n",
       "1                       1.5589                     3.6107   \n",
       "2                       1.5643                     2.3308   \n",
       "3                       3.7805                     3.5664   \n",
       "4                       6.1727                     5.8416   \n",
       "..                         ...                        ...   \n",
       "751                     3.0706                     3.0190   \n",
       "752                     1.9704                     1.7451   \n",
       "753                    51.5607                    44.4641   \n",
       "754                    19.1607                    12.8312   \n",
       "755                    62.9927                    21.8152   \n",
       "\n",
       "     tqwt_kurtosisValue_dec_30  tqwt_kurtosisValue_dec_31  \\\n",
       "0                       3.8686                     4.2105   \n",
       "1                      23.5155                    14.1962   \n",
       "2                       9.4959                    10.7458   \n",
       "3                       5.2558                    14.0403   \n",
       "4                       6.0805                     5.7621   \n",
       "..                         ...                        ...   \n",
       "751                     3.1212                     2.4921   \n",
       "752                     1.8277                     2.4976   \n",
       "753                    26.1586                     6.3076   \n",
       "754                     8.9434                     2.2044   \n",
       "755                     9.2457                     4.8555   \n",
       "\n",
       "     tqwt_kurtosisValue_dec_32  tqwt_kurtosisValue_dec_33  \\\n",
       "0                       5.1221                     4.4625   \n",
       "1                      11.0261                     9.5082   \n",
       "2                      11.0177                     4.8066   \n",
       "3                       4.2235                     4.6857   \n",
       "4                       7.7817                    11.6891   \n",
       "..                         ...                        ...   \n",
       "751                     3.5844                     3.5400   \n",
       "752                     5.2981                     4.2616   \n",
       "753                     2.8601                     2.5361   \n",
       "754                     1.9496                     1.9664   \n",
       "755                     3.0551                     3.0415   \n",
       "\n",
       "     tqwt_kurtosisValue_dec_34  tqwt_kurtosisValue_dec_35  \\\n",
       "0                       2.6202                     3.0004   \n",
       "1                       6.5245                     6.3431   \n",
       "2                       2.9199                     3.1495   \n",
       "3                       4.8460                     6.2650   \n",
       "4                       8.2103                     5.0559   \n",
       "..                         ...                        ...   \n",
       "751                     3.3805                     3.2003   \n",
       "752                     6.3042                    10.9058   \n",
       "753                     3.5377                     3.3545   \n",
       "754                     2.6801                     2.8332   \n",
       "755                     4.0116                     2.6217   \n",
       "\n",
       "     tqwt_kurtosisValue_dec_36  class  \n",
       "0                      18.9405      1  \n",
       "1                      45.1780      1  \n",
       "2                       4.7666      1  \n",
       "3                       4.0603      1  \n",
       "4                       6.1164      1  \n",
       "..                         ...    ...  \n",
       "751                     6.8671      0  \n",
       "752                    28.4170      0  \n",
       "753                     5.0424      0  \n",
       "754                     3.7131      0  \n",
       "755                     3.1527      0  \n",
       "\n",
       "[756 rows x 755 columns]"
      ]
     },
     "execution_count": 2,
     "metadata": {},
     "output_type": "execute_result"
    }
   ],
   "source": [
    "data = pd.read_csv('pd_speech_features.csv', skiprows=1)\n",
    "data"
   ]
  },
  {
   "cell_type": "code",
   "execution_count": 3,
   "id": "c4388933-e8e4-4ddd-a041-c1b9ed0c40f1",
   "metadata": {
    "tags": []
   },
   "outputs": [
    {
     "name": "stdout",
     "output_type": "stream",
     "text": [
      "<class 'pandas.core.frame.DataFrame'>\n",
      "RangeIndex: 756 entries, 0 to 755\n",
      "Columns: 755 entries, id to class\n",
      "dtypes: float64(749), int64(6)\n",
      "memory usage: 4.4 MB\n"
     ]
    }
   ],
   "source": [
    "data.info()"
   ]
  },
  {
   "cell_type": "code",
   "execution_count": 4,
   "id": "316a2c3b-f782-4945-9e21-04d89d2f54f4",
   "metadata": {
    "tags": []
   },
   "outputs": [
    {
     "data": {
      "text/plain": [
       "0"
      ]
     },
     "execution_count": 4,
     "metadata": {},
     "output_type": "execute_result"
    }
   ],
   "source": [
    "# Check missing value\n",
    "data.isnull().sum().sum()"
   ]
  },
  {
   "cell_type": "code",
   "execution_count": 5,
   "id": "627b38f7-c08d-4dcc-955a-b85dcce92589",
   "metadata": {
    "tags": []
   },
   "outputs": [
    {
     "data": {
      "image/png": "[encoded data removed]",
      "text/plain": [
       "<Figure size 640x480 with 1 Axes>"
      ]
     },
     "metadata": {},
     "output_type": "display_data"
    }
   ],
   "source": [
    "sns.countplot(x='class', hue='gender', data=data)\n",
    "plt.show()"
   ]
  },
  {
   "cell_type": "code",
   "execution_count": 6,
   "id": "f5f4f824-b744-47b3-ae12-82bf7c968de7",
   "metadata": {
    "tags": []
   },
   "outputs": [
    {
     "name": "stdout",
     "output_type": "stream",
     "text": [
      "Train Data Shape: (528, 754)\n",
      "Test Data Shape: (228, 754)\n"
     ]
    }
   ],
   "source": [
    "def split_data_by_id(data, test_size=0.3, random_state=None):\n",
    "    unique_ids = data['id'].unique()\n",
    "\n",
    "    train_ids, test_ids = train_test_split(unique_ids, test_size=test_size, random_state=random_state)\n",
    "\n",
    "    train_data = data[data['id'].isin(train_ids)]\n",
    "    test_data = data[data['id'].isin(test_ids)]\n",
    "    \n",
    "    return train_data, test_data\n",
    "\n",
    "train_data, test_data = split_data_by_id(data, test_size=0.3, random_state=19260817)\n",
    "\n",
    "train_data = train_data.drop(columns=['id'])\n",
    "test_data = test_data.drop(columns=['id'])\n",
    "\n",
    "\n",
    "print(\"Train Data Shape:\", train_data.shape)\n",
    "print(\"Test Data Shape:\", test_data.shape)"
   ]
  },
  {
   "cell_type": "code",
   "execution_count": 7,
   "id": "3288e9b5-0cb0-49eb-bb7d-ac35747bedc0",
   "metadata": {
    "tags": []
   },
   "outputs": [],
   "source": [
    "X_train, y_train = train_data.iloc[:,:-1], train_data.iloc[:,-1]\n",
    "X_test, y_test = test_data.iloc[:,:-1], test_data.iloc[:,-1]"
   ]
  },
  {
   "cell_type": "code",
   "execution_count": 8,
   "id": "345865c4-132b-43ab-9473-564e6f672664",
   "metadata": {
    "tags": []
   },
   "outputs": [
    {
     "data": {
      "text/plain": [
       "(0.7443181818181818, 0.75)"
      ]
     },
     "execution_count": 8,
     "metadata": {},
     "output_type": "execute_result"
    }
   ],
   "source": [
    "y_train.sum()/y_train.count(), y_test.sum()/y_test.count()"
   ]
  },
  {
   "cell_type": "code",
   "execution_count": 9,
   "id": "a971f583-f588-4b51-81ea-0f83f4c166d5",
   "metadata": {
    "tags": []
   },
   "outputs": [],
   "source": [
    "# # Split dataset\n",
    "# X = data.iloc[:,:-1]\n",
    "# y = data.iloc[:,-1]\n",
    "# X_train, X_test, y_train, y_test = model_selection.train_test_split(X, y, test_size=0.3, stratify = y, random_state = 42)\n",
    "\n",
    "# print('training data has ' + str(X_train.shape[0]) + ' observation with ' + str(X_train.shape[1]) + ' features')\n",
    "# print('test data has ' + str(X_test.shape[0]) + ' observation with ' + str(X_test.shape[1]) + ' features')"
   ]
  },
  {
   "cell_type": "code",
   "execution_count": 10,
   "id": "f94c9adf-d1c9-4eb2-b9d8-ce61c7e47472",
   "metadata": {
    "tags": []
   },
   "outputs": [],
   "source": [
    "scaler = StandardScaler()\n",
    "X_train_scaled = scaler.fit_transform(X_train)\n",
    "X_test_scaled = scaler.transform(X_test)\n",
    "X_train, X_test = X_train_scaled, X_test_scaled"
   ]
  },
  {
   "cell_type": "markdown",
   "id": "c4d2504e-041a-4785-b30e-c62ec4621be7",
   "metadata": {},
   "source": [
    "# Model"
   ]
  },
  {
   "cell_type": "code",
   "execution_count": null,
   "id": "519a29d8-aa40-4300-b9af-c312c53d8273",
   "metadata": {
    "tags": []
   },
   "outputs": [],
   "source": [
    "def print_grid_search(gs):\n",
    "    print (\"Best score: \" + str(gs.best_score_))\n",
    "    print (\"Best parameters set:\")\n",
    "    best_parameters = gs.best_params_\n",
    "    for param_name in sorted(best_parameters.keys()):\n",
    "        print(param_name + ':' + str(best_parameters[param_name]))\n",
    "\n",
    "def get_metrics(model, mode = 'test'):\n",
    "    if mode == 'train':\n",
    "        X, y = X_train, y_train\n",
    "    elif mode == 'test':\n",
    "        X, y = X_test, y_test\n",
    "    results = {}\n",
    "    y_pred = model.predict(X)\n",
    "    y_pred_prob = model.predict_proba(X)[:, 1]\n",
    "    results['accuracy'] = accuracy_score(y, y_pred)\n",
    "    results['precision'] = precision_score(y, y_pred)\n",
    "    results['recall'] = recall_score(y, y_pred)\n",
    "    results['f1'] = f1_score(y, y_pred)\n",
    "    # results['kappa'] = cohen_kappa_score(y, y_pred)\n",
    "    results['auc'] = roc_auc_score(y, y_pred_prob)\n",
    "    return results\n",
    "\n",
    "# def get_metrics_new(model, mode = 'test'):\n",
    "#     if mode == 'train':\n",
    "#         X, y = X_train_new, y_train\n",
    "#     elif mode == 'test':\n",
    "#         X, y = X_test_new, y_test\n",
    "#     results = {}\n",
    "#     y_pred = model.predict(X)\n",
    "#     y_pred_prob = model.predict_proba(X)[:, 1]\n",
    "#     results['accuracy'] = accuracy_score(y, y_pred)\n",
    "#     results['precision'] = precision_score(y, y_pred)\n",
    "#     results['recall'] = recall_score(y, y_pred)\n",
    "#     results['f1'] = f1_score(y, y_pred)\n",
    "#     # results['kappa'] = cohen_kappa_score(y, y_pred)\n",
    "#     results['auc'] = roc_auc_score(y, y_pred_prob)\n",
    "#     return results\n",
    "\n",
    "def get_results(model):\n",
    "    res1, res2 = get_metrics(model, mode='train'), get_metrics(model, mode='test')\n",
    "    print(f'Train:\\n{res1}')\n",
    "    print(f'Test:\\n{res2}')\n",
    "    return res1, res2\n",
    "\n",
    "# def get_results_new(model):\n",
    "#     res1, res2 = get_metrics_new(model, mode='train'), get_metrics_new(model, mode='test')\n",
    "#     print(f'Train:\\n{res1}')\n",
    "#     print(f'Test:\\n{res2}')\n",
    "#     return res1, res2\n",
    "\n",
    "def get_coma(model):\n",
    "    X, y = X_test, y_test\n",
    "    y_pred = model.predict(X)\n",
    "    return confusion_matrix(y, y_pred)"
   ]
  },
  {
   "cell_type": "markdown",
   "id": "c1af77bb",
   "metadata": {},
   "source": [
    "## Logistic Regression"
   ]
  },
  {
   "cell_type": "code",
   "execution_count": null,
   "id": "b5383c1d-33c4-4e2c-80bd-c73059efb920",
   "metadata": {
    "tags": []
   },
   "outputs": [],
   "source": [
    "params = {\n",
    "    'C': [0.01, 0.1, 1.0],\n",
    "    'penalty': ['l1', 'l2']\n",
    "}\n",
    "grid_lr = GridSearchCV(LogisticRegression(solver='liblinear',random_state=42), params)\n",
    "grid_lr.fit(X_train, y_train)"
   ]
  },
  {
   "cell_type": "code",
   "execution_count": null,
   "id": "c1a29eed-fb58-4164-aa89-59ddeef125e0",
   "metadata": {
    "tags": []
   },
   "outputs": [],
   "source": [
    "print_grid_search(grid_lr)"
   ]
  },
  {
   "cell_type": "code",
   "execution_count": null,
   "id": "459a7d9d-ca20-4e89-9254-0c5689190ffb",
   "metadata": {
    "tags": []
   },
   "outputs": [],
   "source": [
    "best_lr = grid_lr.best_estimator_\n",
    "res_lr_train, res_lr_test = get_results(best_lr)"
   ]
  },
  {
   "cell_type": "code",
   "execution_count": null,
   "id": "48ad6692-df27-4ca5-9347-230c4088a29b",
   "metadata": {
    "tags": []
   },
   "outputs": [],
   "source": [
    "df_train_result = pd.DataFrame(res_lr_train, index=['Logistic Regression'])\n",
    "df_test_result = pd.DataFrame(res_lr_test, index=['Logistic Regression'])"
   ]
  },
  {
   "cell_type": "code",
   "execution_count": null,
   "id": "9458af24-629b-47dc-b9e6-50364f5833d4",
   "metadata": {
    "tags": []
   },
   "outputs": [],
   "source": [
    "get_coma(best_lr)"
   ]
  },
  {
   "cell_type": "markdown",
   "id": "76d1d630-1cf8-4e8d-99d9-9e1eadc30d9e",
   "metadata": {},
   "source": [
    "## Decision Tree"
   ]
  },
  {
   "cell_type": "code",
   "execution_count": null,
   "id": "4c32ffca-46cd-4ac0-8a1f-2adce38cf20a",
   "metadata": {},
   "outputs": [],
   "source": [
    "params = {\n",
    "    'criterion': ['gini', 'entropy'],\n",
    "    'min_samples_split': [2, 5, 10],\n",
    "    'min_samples_leaf': [1, 2, 4]\n",
    "}\n",
    "grid_dt = GridSearchCV(DecisionTreeClassifier(random_state=42), params, cv=5)\n",
    "grid_dt.fit(X_train, y_train)"
   ]
  },
  {
   "cell_type": "code",
   "execution_count": null,
   "id": "4ea8dac2-acb0-4a31-a2e2-d4572c53c83a",
   "metadata": {
    "tags": []
   },
   "outputs": [],
   "source": [
    "print_grid_search(grid_dt)"
   ]
  },
  {
   "cell_type": "code",
   "execution_count": null,
   "id": "15766884-1ded-4084-baac-fb8307bf3d26",
   "metadata": {
    "tags": []
   },
   "outputs": [],
   "source": [
    "best_dt = grid_dt.best_estimator_\n",
    "res_dt_train, res_dt_test = get_results(best_dt)"
   ]
  },
  {
   "cell_type": "code",
   "execution_count": null,
   "id": "daf9a9e5-82eb-465d-95b3-d697b6a5e243",
   "metadata": {
    "tags": []
   },
   "outputs": [],
   "source": [
    "df_train_result = pd.concat([df_train_result, pd.DataFrame(res_dt_train, index=['Decision Tree'])], axis=0)\n",
    "df_test_result = pd.concat([df_test_result, pd.DataFrame(res_dt_test, index=['Decision Tree'])], axis=0)"
   ]
  },
  {
   "cell_type": "code",
   "execution_count": null,
   "id": "94833bf8-e9bc-4676-9593-116445566c36",
   "metadata": {
    "tags": []
   },
   "outputs": [],
   "source": [
    "get_coma(best_dt)"
   ]
  },
  {
   "cell_type": "markdown",
   "id": "f69f0b2c-0513-4b61-95c6-3833337a9d2e",
   "metadata": {},
   "source": [
    "## Random Forest"
   ]
  },
  {
   "cell_type": "code",
   "execution_count": null,
   "id": "0d6eb225-9708-4be1-b51a-9e692cd3eb54",
   "metadata": {
    "tags": []
   },
   "outputs": [],
   "source": [
    "params = {\n",
    "    'n_estimators': [100, 200, 300],\n",
    "    'max_features': ['log2', 'sqrt', 1]\n",
    "}\n",
    "grid_rf = GridSearchCV(RandomForestClassifier(random_state=42), params, cv=5)\n",
    "grid_rf.fit(X_train, y_train)"
   ]
  },
  {
   "cell_type": "code",
   "execution_count": null,
   "id": "89cbd1b8-c045-4767-919e-d966be0067ce",
   "metadata": {
    "tags": []
   },
   "outputs": [],
   "source": [
    "print_grid_search(grid_rf)"
   ]
  },
  {
   "cell_type": "code",
   "execution_count": null,
   "id": "85e4f5cb-a09c-41a5-9d3e-a59133b42c9d",
   "metadata": {
    "tags": []
   },
   "outputs": [],
   "source": [
    "best_rf = grid_rf.best_estimator_\n",
    "res_rf_train, res_rf_test = get_results(best_rf)"
   ]
  },
  {
   "cell_type": "code",
   "execution_count": null,
   "id": "51eca69e-15dd-46ff-9e24-5675683ee5d8",
   "metadata": {
    "tags": []
   },
   "outputs": [],
   "source": [
    "df_train_result = pd.concat([df_train_result, pd.DataFrame(res_rf_train, index=['Random Forest'])], axis=0)\n",
    "df_test_result = pd.concat([df_test_result, pd.DataFrame(res_rf_test, index=['Random Forest'])], axis=0)"
   ]
  },
  {
   "cell_type": "code",
   "execution_count": null,
   "id": "145c31aa-4813-48a5-a231-dbfcf7907790",
   "metadata": {
    "tags": []
   },
   "outputs": [],
   "source": [
    "get_coma(best_rf)"
   ]
  },
  {
   "cell_type": "markdown",
   "id": "1f0b8168-990a-43aa-851e-f721544e067a",
   "metadata": {},
   "source": [
    "## Gradient Boosting"
   ]
  },
  {
   "cell_type": "code",
   "execution_count": null,
   "id": "610021a4-9873-47de-9448-980405ab044c",
   "metadata": {
    "tags": []
   },
   "outputs": [],
   "source": [
    "params = {\n",
    "    'n_estimators': [800, 1000],\n",
    "    'learning_rate': [0.01, 0.02, 0.05],\n",
    "    'max_depth': [3, 5, 7],\n",
    "    'max_features': ['sqrt', 'log2']\n",
    "}\n",
    "grid_gb = GridSearchCV(GradientBoostingClassifier(random_state=42), params, cv=5)\n",
    "grid_gb.fit(X_train, y_train)"
   ]
  },
  {
   "cell_type": "code",
   "execution_count": null,
   "id": "8998262a-8e0e-44a8-b215-39f920264868",
   "metadata": {
    "tags": []
   },
   "outputs": [],
   "source": [
    "print_grid_search(grid_gb)"
   ]
  },
  {
   "cell_type": "code",
   "execution_count": null,
   "id": "025e9f41-57ad-4348-9f91-221f9e1bdac5",
   "metadata": {
    "tags": []
   },
   "outputs": [],
   "source": [
    "best_gb = grid_gb.best_estimator_\n",
    "res_gb_train, res_gb_test = get_results(best_gb)"
   ]
  },
  {
   "cell_type": "code",
   "execution_count": null,
   "id": "5edd52ff-ce74-41eb-bc3e-e24294c36a41",
   "metadata": {
    "tags": []
   },
   "outputs": [],
   "source": [
    "df_train_result = pd.concat([df_train_result, pd.DataFrame(res_gb_train, index=['GBDT'])], axis=0)\n",
    "df_test_result = pd.concat([df_test_result, pd.DataFrame(res_gb_test, index=['GBDT'])], axis=0)"
   ]
  },
  {
   "cell_type": "code",
   "execution_count": null,
   "id": "974c9266-0939-4571-ad02-35f86c172f0a",
   "metadata": {
    "tags": []
   },
   "outputs": [],
   "source": [
    "get_coma(best_gb)"
   ]
  },
  {
   "cell_type": "markdown",
   "id": "3d9570ed-6687-40b1-be90-c8eff41ddd6f",
   "metadata": {},
   "source": [
    "## XGBoost"
   ]
  },
  {
   "cell_type": "code",
   "execution_count": null,
   "id": "f05eeb86-1c97-4f01-80e2-d855ef4a6e3e",
   "metadata": {
    "tags": []
   },
   "outputs": [],
   "source": [
    "params = {\n",
    "    'n_estimators': [1000],\n",
    "    'learning_rate': [0.01],\n",
    "    'max_depth': [3],\n",
    "    'min_child_weight': [1],\n",
    "    'gamma': [0, 0.1],\n",
    "    'subsample': [0.9],\n",
    "    'colsample_bytree': [0.3],\n",
    "}\n",
    "grid_xgb = GridSearchCV(xgb.XGBClassifier(random_state=42), params, cv=5)\n",
    "grid_xgb.fit(X_train, y_train)"
   ]
  },
  {
   "cell_type": "code",
   "execution_count": null,
   "id": "00cb58cb-c623-4a92-8816-e2318f5ada98",
   "metadata": {
    "tags": []
   },
   "outputs": [],
   "source": [
    "print_grid_search(grid_xgb)"
   ]
  },
  {
   "cell_type": "code",
   "execution_count": null,
   "id": "f60c6462-9745-45ca-9e5d-af71d1300794",
   "metadata": {
    "tags": []
   },
   "outputs": [],
   "source": [
    "best_xgb = grid_xgb.best_estimator_\n",
    "res_xgb_train, res_xgb_test = get_results(best_xgb)"
   ]
  },
  {
   "cell_type": "code",
   "execution_count": null,
   "id": "267bfaf6-40af-40d0-a2cc-c4a0c16c3f4d",
   "metadata": {
    "tags": []
   },
   "outputs": [],
   "source": [
    "df_train_result = pd.concat([df_train_result, pd.DataFrame(res_xgb_train, index=['XGBoost'])], axis=0)\n",
    "df_test_result = pd.concat([df_test_result, pd.DataFrame(res_xgb_test, index=['XGBoost'])], axis=0)"
   ]
  },
  {
   "cell_type": "code",
   "execution_count": null,
   "id": "859f8918-c52e-48cd-bab9-0a941927b0e9",
   "metadata": {
    "tags": []
   },
   "outputs": [],
   "source": [
    "get_coma(best_xgb)"
   ]
  },
  {
   "cell_type": "code",
   "execution_count": null,
   "id": "150fbff6-b603-4a95-ad0b-e0e75f2c7b4d",
   "metadata": {
    "tags": []
   },
   "outputs": [],
   "source": [
    "# feature_importances = best_xgb.feature_importances_\n",
    "# sorted_indices = np.argsort(feature_importances)[::-1]\n",
    "# cumulative_importance = np.cumsum(feature_importances[sorted_indices])\n",
    "# desired_cumulative_importance = 0.90\n",
    "# selected_indices = np.where(cumulative_importance <= desired_cumulative_importance)[0]\n",
    "# X_train_new = X_train[:, sorted_indices[selected_indices]]\n",
    "# X_test_new = X_test[:, sorted_indices[selected_indices]]"
   ]
  },
  {
   "cell_type": "code",
   "execution_count": null,
   "id": "e284e58c-6537-4287-a847-e6e328785bca",
   "metadata": {
    "tags": []
   },
   "outputs": [],
   "source": [
    "# params = {\n",
    "#     'n_estimators': [500],\n",
    "#     'learning_rate': [0.01, 0.02],\n",
    "#     'max_depth': [3, 5],\n",
    "#     'min_child_weight': [1, 3],\n",
    "#     'gamma': [0, 0.1],\n",
    "#     'subsample': [0.8, 0.9, 1.0],\n",
    "#     'colsample_bytree': [0.1, 0.2, 0.3],\n",
    "# }\n",
    "# grid_xgb_new = GridSearchCV(xgb.XGBClassifier(random_state=42), params, cv=5)\n",
    "# grid_xgb_new.fit(X_train_new, y_train)"
   ]
  },
  {
   "cell_type": "code",
   "execution_count": null,
   "id": "705f7c64-14fd-4515-aef1-ff6c5111974a",
   "metadata": {
    "tags": []
   },
   "outputs": [],
   "source": [
    "# print_grid_search(grid_xgb_new)"
   ]
  },
  {
   "cell_type": "code",
   "execution_count": null,
   "id": "15909366-d0f5-41de-9255-1c027e22fbff",
   "metadata": {
    "tags": []
   },
   "outputs": [],
   "source": [
    "# best_xgb_new = grid_xgb_new.best_estimator_\n",
    "# res_xgb_new_train, res_xgb_new_test = get_results_new(best_xgb_new)"
   ]
  },
  {
   "cell_type": "markdown",
   "id": "67e6372c-5f5a-4710-92f0-8632542abb55",
   "metadata": {},
   "source": [
    "## LightGBM"
   ]
  },
  {
   "cell_type": "code",
   "execution_count": null,
   "id": "236c92a9-153f-4253-aae3-45e29ecd9680",
   "metadata": {},
   "outputs": [],
   "source": [
    "lgb.LGBMClassifier()"
   ]
  },
  {
   "cell_type": "code",
   "execution_count": null,
   "id": "c49a7611-1fd8-4343-861d-d4627d738d94",
   "metadata": {
    "tags": []
   },
   "outputs": [],
   "source": [
    "params = {\n",
    "    'n_estimators': [50, 100, 150],\n",
    "    'learning_rate': [0.1, 0.2, 0.3, 0.4],\n",
    "    'max_depth': [3],\n",
    "    'num_leaves': [10],\n",
    "    'subsample': [0.3, 0.5, 0.7],\n",
    "    'colsample_bytree': [0.7, 0.8, 0.9]\n",
    "}\n",
    "grid_lgb = GridSearchCV(lgb.LGBMClassifier(n_jobs=-1, verbose=-1), params, cv=5)\n",
    "grid_lgb.fit(X_train, y_train)"
   ]
  },
  {
   "cell_type": "code",
   "execution_count": null,
   "id": "05e004e6-9c45-426d-bd49-b2e31264aef6",
   "metadata": {
    "tags": []
   },
   "outputs": [],
   "source": [
    "print_grid_search(grid_lgb)"
   ]
  },
  {
   "cell_type": "code",
   "execution_count": null,
   "id": "1f33edff-c521-49e7-84b6-b80aab444937",
   "metadata": {
    "tags": []
   },
   "outputs": [],
   "source": [
    "best_lgb = grid_lgb.best_estimator_\n",
    "res_lgb_train, res_lgb_test = get_results(best_lgb)"
   ]
  },
  {
   "cell_type": "code",
   "execution_count": null,
   "id": "fdb161af-f653-4c96-ab1d-97f767a4512b",
   "metadata": {
    "tags": []
   },
   "outputs": [],
   "source": [
    "df_train_result = pd.concat([df_train_result, pd.DataFrame(res_lgb_train, index=['LightGBM'])], axis=0)\n",
    "df_test_result = pd.concat([df_test_result, pd.DataFrame(res_lgb_test, index=['LightGBM'])], axis=0)"
   ]
  },
  {
   "cell_type": "code",
   "execution_count": null,
   "id": "334dc5ce-de77-44e1-b899-dd27d636f7f1",
   "metadata": {
    "tags": []
   },
   "outputs": [],
   "source": [
    "get_coma(best_lgb)"
   ]
  },
  {
   "cell_type": "markdown",
   "id": "5f6a273c-7a4c-4bf9-b74a-73c194cc085d",
   "metadata": {},
   "source": [
    "## KNN"
   ]
  },
  {
   "cell_type": "code",
   "execution_count": null,
   "id": "717601eb-6d96-4fe8-8126-904b643589a4",
   "metadata": {
    "tags": []
   },
   "outputs": [],
   "source": [
    "params = {\n",
    "    'n_neighbors': [1, 2, 3, 4],\n",
    "    'weights': ['uniform', 'distance'],\n",
    "    'p': [1, 2]\n",
    "}\n",
    "grid_knn = GridSearchCV(KNeighborsClassifier(n_jobs=-1), params, cv=5)\n",
    "grid_knn.fit(X_train, y_train)"
   ]
  },
  {
   "cell_type": "code",
   "execution_count": null,
   "id": "c846889c-a21b-49d8-896a-358db50ca38a",
   "metadata": {
    "tags": []
   },
   "outputs": [],
   "source": [
    "print_grid_search(grid_knn)"
   ]
  },
  {
   "cell_type": "code",
   "execution_count": null,
   "id": "8e5e1ea4-3bb5-4b63-8782-14ef2a609995",
   "metadata": {
    "tags": []
   },
   "outputs": [],
   "source": [
    "best_knn = grid_knn.best_estimator_\n",
    "res_knn_train, res_knn_test = get_results(best_knn)"
   ]
  },
  {
   "cell_type": "code",
   "execution_count": null,
   "id": "69a1801a-1f84-4fd9-9b89-5342eaf9bd1c",
   "metadata": {
    "tags": []
   },
   "outputs": [],
   "source": [
    "df_train_result = pd.concat([df_train_result, pd.DataFrame(res_knn_train, index=['KNN'])], axis=0)\n",
    "df_test_result = pd.concat([df_test_result, pd.DataFrame(res_knn_test, index=['KNN'])], axis=0)"
   ]
  },
  {
   "cell_type": "code",
   "execution_count": null,
   "id": "c1db1d4b-6db5-4f6b-9b6f-646d52bc962a",
   "metadata": {
    "tags": []
   },
   "outputs": [],
   "source": [
    "get_coma(best_knn)"
   ]
  },
  {
   "cell_type": "markdown",
   "id": "fb1919c2-72f9-4cdc-82da-98b9d0c371aa",
   "metadata": {},
   "source": [
    "## SVM"
   ]
  },
  {
   "cell_type": "code",
   "execution_count": null,
   "id": "65401a6d-d891-4737-9873-124c987df7a5",
   "metadata": {
    "tags": []
   },
   "outputs": [],
   "source": [
    "params = {\n",
    "    'C': [0.5, 1, 2],\n",
    "    'gamma': ['scale', 'auto', 0.1, 1],\n",
    "}\n",
    "grid_svm = GridSearchCV(SVC(random_state=42, probability=True), params, cv=5)\n",
    "grid_svm.fit(X_train, y_train)"
   ]
  },
  {
   "cell_type": "code",
   "execution_count": null,
   "id": "74db4c9d-1582-4d39-82ec-295b6e84ff6f",
   "metadata": {
    "tags": []
   },
   "outputs": [],
   "source": [
    "print_grid_search(grid_svm)"
   ]
  },
  {
   "cell_type": "code",
   "execution_count": null,
   "id": "bbbbeb4f-6cf5-41b6-91d9-24ab0f21815b",
   "metadata": {
    "tags": []
   },
   "outputs": [],
   "source": [
    "best_svm = grid_svm.best_estimator_\n",
    "res_svm_train, res_svm_test = get_results(best_svm)"
   ]
  },
  {
   "cell_type": "code",
   "execution_count": null,
   "id": "8378f252-2496-427c-9292-729aa44a019b",
   "metadata": {
    "tags": []
   },
   "outputs": [],
   "source": [
    "df_train_result = pd.concat([df_train_result, pd.DataFrame(res_svm_train, index=['SVM'])], axis=0)\n",
    "df_test_result = pd.concat([df_test_result, pd.DataFrame(res_svm_test, index=['SVM'])], axis=0)"
   ]
  },
  {
   "cell_type": "code",
   "execution_count": null,
   "id": "c6d3e4df-a526-4415-824d-25cb59dbfcc5",
   "metadata": {
    "tags": []
   },
   "outputs": [],
   "source": [
    "get_coma(best_svm)"
   ]
  },
  {
   "cell_type": "markdown",
   "id": "1fe3a793-d458-49d7-8bf5-d0a84c4aea6c",
   "metadata": {},
   "source": [
    "## Naive Bayes"
   ]
  },
  {
   "cell_type": "code",
   "execution_count": null,
   "id": "95b7a063-66c9-4627-812e-c4a4f1004fc1",
   "metadata": {
    "tags": []
   },
   "outputs": [],
   "source": [
    "nb = GaussianNB()\n",
    "nb.fit(X_train, y_train)"
   ]
  },
  {
   "cell_type": "code",
   "execution_count": null,
   "id": "347aa202-1272-4204-bf7f-ff930e0ba85b",
   "metadata": {
    "tags": []
   },
   "outputs": [],
   "source": [
    "res_nb_train, res_nb_test = get_results(nb)"
   ]
  },
  {
   "cell_type": "code",
   "execution_count": null,
   "id": "9082bcf2-6833-47ca-9ac4-30eaa65307ce",
   "metadata": {
    "tags": []
   },
   "outputs": [],
   "source": [
    "df_train_result = pd.concat([df_train_result, pd.DataFrame(res_nb_train, index=['Naive Bayes'])], axis=0)\n",
    "df_test_result = pd.concat([df_test_result, pd.DataFrame(res_nb_test, index=['Naive Bayes'])], axis=0)"
   ]
  },
  {
   "cell_type": "code",
   "execution_count": null,
   "id": "ee137a2b-e54a-4794-82bf-e5d71d59db9d",
   "metadata": {
    "tags": []
   },
   "outputs": [],
   "source": [
    "get_coma(best_svm)"
   ]
  },
  {
   "cell_type": "markdown",
   "id": "67f46d1f",
   "metadata": {},
   "source": [
    "# Ada"
   ]
  },
  {
   "cell_type": "code",
   "execution_count": null,
   "id": "a3e2312b",
   "metadata": {},
   "outputs": [],
   "source": [
    "Ada = AdaBoostClassifier(\n",
    "    estimator=DecisionTreeClassifier(max_depth=1), \n",
    "    n_estimators=100,   \n",
    "    learning_rate=0.5, \n",
    "    random_state=42\n",
    ")\n",
    "\n",
    "\n",
    "Ada.fit(X_train, y_train)\n"
   ]
  },
  {
   "cell_type": "code",
   "execution_count": null,
   "id": "622c6bb8",
   "metadata": {},
   "outputs": [],
   "source": [
    "res_Ada_train, res_Ada_test = get_results(Ada)"
   ]
  },
  {
   "cell_type": "code",
   "execution_count": null,
   "id": "39533324",
   "metadata": {},
   "outputs": [],
   "source": [
    "df_test_result = pd.concat([df_test_result, pd.DataFrame(res_Ada_test, index=['Ada'])], axis=0)"
   ]
  },
  {
   "cell_type": "markdown",
   "id": "cee7cb96",
   "metadata": {},
   "source": [
    "## Stack"
   ]
  },
  {
   "cell_type": "code",
   "execution_count": null,
   "id": "5eaebff4",
   "metadata": {},
   "outputs": [],
   "source": [
    "# We utilize two distinct base models: Support Vector Machine (SVM) and Decision Tree.\n",
    "# The predictions from these models serve as meta-features and are fed into a logistic regression model.\n",
    "# This logistic regression model acts as the second layer in our stacking approach,\n",
    "# synthesizing the predictions from the base models to yield the final classification outcome.\n",
    "\n",
    "estimators = [\n",
    "    ('svm', SVC(probability=True)),\n",
    "    ('dt', DecisionTreeClassifier()),\n",
    "#     ('rf', RandomForestClassifier(n_estimators=100))\n",
    "]\n",
    "stack = StackingClassifier(\n",
    "    estimators=estimators, final_estimator=LogisticRegression()\n",
    ")\n",
    "stack.fit(X_train, y_train)"
   ]
  },
  {
   "cell_type": "code",
   "execution_count": null,
   "id": "f0efa023",
   "metadata": {},
   "outputs": [],
   "source": [
    "res_stack_train, res_stack_test = get_results(stack)"
   ]
  },
  {
   "cell_type": "code",
   "execution_count": null,
   "id": "7380aa30",
   "metadata": {},
   "outputs": [],
   "source": [
    "df_test_result = pd.concat([df_test_result, pd.DataFrame(res_stack_test, index=['Stack'])], axis=0)"
   ]
  },
  {
   "cell_type": "markdown",
   "id": "85b833e8",
   "metadata": {},
   "source": [
    "# Deep learning model"
   ]
  },
  {
   "cell_type": "code",
   "execution_count": 11,
   "id": "b10499b9",
   "metadata": {},
   "outputs": [],
   "source": [
    "def set_seed(seed):\n",
    "    torch.manual_seed(seed)\n",
    "    torch.cuda.manual_seed_all(seed) \n",
    "    np.random.seed(seed)\n",
    "    random.seed(seed)\n",
    "    torch.backends.cudnn.deterministic = True\n",
    "    torch.backends.cudnn.benchmark = False\n",
    "\n",
    "set_seed(42)\n"
   ]
  },
  {
   "cell_type": "code",
   "execution_count": 12,
   "id": "7f97ee88",
   "metadata": {},
   "outputs": [],
   "source": [
    "def get_metrics_pytorch(model, data_loader, device='cpu'):\n",
    "    model.eval() \n",
    "    y_true, y_pred, y_scores = [], [], []\n",
    "    with torch.no_grad(): \n",
    "        for inputs, labels in data_loader:\n",
    "            inputs, labels = inputs.to(device), labels.to(device)\n",
    "            outputs = model(inputs)\n",
    "            _, predicted = torch.max(outputs.data, 1)\n",
    "            probabilities = torch.nn.functional.softmax(outputs, dim=1)\n",
    "            \n",
    "            y_true.extend(labels.cpu().numpy())\n",
    "            y_pred.extend(predicted.cpu().numpy())\n",
    "            y_scores.extend(probabilities[:, 1].cpu().numpy())  # assuming binary classification\n",
    "    \n",
    "    results = {\n",
    "        'accuracy': accuracy_score(y_true, y_pred),\n",
    "        'precision': precision_score(y_true, y_pred),\n",
    "        'recall': recall_score(y_true, y_pred),\n",
    "        'f1': f1_score(y_true, y_pred),\n",
    "        'auc': roc_auc_score(y_true, y_scores)\n",
    "    }\n",
    "    return results\n",
    "\n",
    "def get_results_pytorch(model, train_loader, test_loader, device='cpu'):\n",
    "    train_metrics = get_metrics_pytorch(model, train_loader, device)\n",
    "    test_metrics = get_metrics_pytorch(model, test_loader, device)\n",
    "    print(f'Train:\\n{train_metrics}')\n",
    "    print(f'Test:\\n{test_metrics}')\n",
    "    return train_metrics, test_metrics\n",
    "\n",
    "from sklearn.metrics import confusion_matrix\n",
    "\n",
    "def get_coma_pytorch(model, data_loader, device='cpu'):\n",
    "    model.eval()\n",
    "    y_true, y_pred = [], []\n",
    "    with torch.no_grad():\n",
    "        for inputs, labels in data_loader:\n",
    "            inputs = inputs.to(device)\n",
    "            outputs = model(inputs)\n",
    "            _, predicted = torch.max(outputs, 1)\n",
    "            y_true.extend(labels.cpu().numpy())\n",
    "            y_pred.extend(predicted.cpu().numpy())\n",
    "    return confusion_matrix(y_true, y_pred)\n"
   ]
  },
  {
   "cell_type": "code",
   "execution_count": 13,
   "id": "56705cf5",
   "metadata": {},
   "outputs": [],
   "source": [
    "class SpeechDataset(Dataset):\n",
    "    def __init__(self, features, labels):\n",
    "        self.features = features.values if isinstance(features, pd.DataFrame) else features\n",
    "        self.labels = labels.values if isinstance(labels, pd.Series) else labels\n",
    "    \n",
    "    def __len__(self):\n",
    "        return len(self.labels)\n",
    "    \n",
    "    def __getitem__(self, index):\n",
    "        feature = torch.tensor(self.features[index], dtype=torch.float32)\n",
    "        label = torch.tensor(self.labels[index], dtype=torch.long)\n",
    "        return feature, label\n"
   ]
  },
  {
   "cell_type": "markdown",
   "id": "8cc407b9",
   "metadata": {},
   "source": [
    "# MLP"
   ]
  },
  {
   "cell_type": "code",
   "execution_count": 14,
   "id": "2ddf5190",
   "metadata": {},
   "outputs": [],
   "source": [
    "class MLP(nn.Module):\n",
    "    def __init__(self):\n",
    "        super(MLP, self).__init__()\n",
    "        self.fc1 = nn.Linear(753, 512)\n",
    "        self.fc2 = nn.Linear(512, 256) \n",
    "        self.fc3 = nn.Linear(256, 128)\n",
    "        self.output = nn.Linear(128, 2)  \n",
    "\n",
    "    def forward(self, x, activation = 'leaky_relu'):\n",
    "        if activation == 'relu':\n",
    "            x = F.relu(self.fc1(x))\n",
    "            x = F.relu(self.fc2(x))\n",
    "            x = F.relu(self.fc3(x))\n",
    "        if activation == 'leaky_relu':\n",
    "            x = F.leaky_relu(self.fc1(x), negative_slope=0.01)\n",
    "            x = F.leaky_relu(self.fc2(x), negative_slope=0.01)\n",
    "            x = F.leaky_relu(self.fc3(x), negative_slope=0.01)\n",
    "        if activation == 'elu':\n",
    "            x = F.elu(self.fc1(x))\n",
    "            x = F.elu(self.fc2(x))\n",
    "            x = F.elu(self.fc3(x))\n",
    "        if activation == 'sigmond':\n",
    "            x = torch.sigmoid(self.fc1(x))\n",
    "            x = torch.sigmoid(self.fc2(x))\n",
    "            x = torch.sigmoid(self.fc3(x))\n",
    "        if activation == 'tanh':\n",
    "            x = torch.tanh(self.fc1(x))\n",
    "            x = torch.tanh(self.fc2(x))\n",
    "            x = torch.tanh(self.fc3(x))\n",
    "\n",
    "        x = self.output(x)\n",
    "        return x\n"
   ]
  },
  {
   "cell_type": "code",
   "execution_count": 15,
   "id": "b2caf9ae",
   "metadata": {},
   "outputs": [],
   "source": [
    "train_dataset = SpeechDataset(X_train, y_train)\n",
    "test_dataset = SpeechDataset(X_test, y_test)\n",
    "\n",
    "\n",
    "train_loader = DataLoader(train_dataset, batch_size=64, shuffle=True)\n",
    "test_loader = DataLoader(test_dataset, batch_size=64, shuffle=False)\n",
    "\n"
   ]
  },
  {
   "cell_type": "code",
   "execution_count": 16,
   "id": "ce7366be",
   "metadata": {},
   "outputs": [],
   "source": [
    "mlp = MLP()\n",
    "criterion = nn.CrossEntropyLoss() \n",
    "optimizer = torch.optim.Adam(mlp.parameters(), lr=0.001)\n"
   ]
  },
  {
   "cell_type": "code",
   "execution_count": 17,
   "id": "ae9a5cd1",
   "metadata": {},
   "outputs": [],
   "source": [
    "def train_model(model, train_loader, criterion, optimizer, num_epochs=10):\n",
    "    model.train()\n",
    "    for epoch in range(num_epochs):\n",
    "        running_loss = 0.0\n",
    "        for features, labels in train_loader:\n",
    "            optimizer.zero_grad()  \n",
    "            outputs = model(features) \n",
    "            loss = criterion(outputs, labels)  \n",
    "            loss.backward()  \n",
    "            optimizer.step()  \n",
    "\n",
    "            running_loss += loss.item() * features.size(0)\n",
    "        \n",
    "        epoch_loss = running_loss / len(train_loader.dataset)\n",
    "#         print(f'Epoch {epoch+1}/{num_epochs}, Loss: {epoch_loss:.4f}')\n",
    "        \n",
    "\n",
    "train_model(mlp, train_loader, criterion, optimizer, num_epochs=10)\n"
   ]
  },
  {
   "cell_type": "code",
   "execution_count": 18,
   "id": "86a4be96",
   "metadata": {
    "scrolled": true
   },
   "outputs": [
    {
     "data": {
      "text/plain": [
       "{'accuracy': 0.8640350877192983,\n",
       " 'precision': 0.8846153846153846,\n",
       " 'recall': 0.9415204678362573,\n",
       " 'f1': 0.9121813031161472,\n",
       " 'auc': 0.843746793885298}"
      ]
     },
     "execution_count": 18,
     "metadata": {},
     "output_type": "execute_result"
    }
   ],
   "source": [
    "get_metrics_pytorch(mlp, test_loader)"
   ]
  },
  {
   "cell_type": "code",
   "execution_count": 19,
   "id": "15022611",
   "metadata": {},
   "outputs": [
    {
     "name": "stdout",
     "output_type": "stream",
     "text": [
      "Train:\n",
      "{'accuracy': 1.0, 'precision': 1.0, 'recall': 1.0, 'f1': 1.0, 'auc': 1.0}\n",
      "Test:\n",
      "{'accuracy': 0.8640350877192983, 'precision': 0.8846153846153846, 'recall': 0.9415204678362573, 'f1': 0.9121813031161472, 'auc': 0.843746793885298}\n"
     ]
    }
   ],
   "source": [
    "res_mlp_train,res_mlp_test = get_results_pytorch(mlp, train_loader, test_loader, device='cpu')"
   ]
  },
  {
   "cell_type": "code",
   "execution_count": 20,
   "id": "67eb8f67",
   "metadata": {},
   "outputs": [
    {
     "ename": "NameError",
     "evalue": "name 'df_test_result' is not defined",
     "output_type": "error",
     "traceback": [
      "\u001b[0;31m---------------------------------------------------------------------------\u001b[0m",
      "\u001b[0;31mNameError\u001b[0m                                 Traceback (most recent call last)",
      "Cell \u001b[0;32mIn[20], line 1\u001b[0m\n\u001b[0;32m----> 1\u001b[0m df_test_result \u001b[38;5;241m=\u001b[39m pd\u001b[38;5;241m.\u001b[39mconcat([df_test_result, pd\u001b[38;5;241m.\u001b[39mDataFrame(res_mlp_test, index\u001b[38;5;241m=\u001b[39m[\u001b[38;5;124m'\u001b[39m\u001b[38;5;124mMLP\u001b[39m\u001b[38;5;124m'\u001b[39m])], axis\u001b[38;5;241m=\u001b[39m\u001b[38;5;241m0\u001b[39m)\n",
      "\u001b[0;31mNameError\u001b[0m: name 'df_test_result' is not defined"
     ]
    }
   ],
   "source": [
    "df_test_result = pd.concat([df_test_result, pd.DataFrame(res_mlp_test, index=['MLP'])], axis=0)"
   ]
  },
  {
   "cell_type": "markdown",
   "id": "a1fbf14e",
   "metadata": {},
   "source": [
    "# Transformer"
   ]
  },
  {
   "cell_type": "code",
   "execution_count": null,
   "id": "51c4185b",
   "metadata": {},
   "outputs": [],
   "source": [
    "class MultiHeadAttention(nn.Module):\n",
    "    def __init__(self, embed_size, heads):\n",
    "        super(MultiHeadAttention, self).__init__()\n",
    "        self.embed_size = embed_size\n",
    "        self.heads = heads\n",
    "        self.head_dim = embed_size // heads\n",
    "\n",
    "        assert self.head_dim * heads == embed_size, \"Embedding size needs to be divisible by heads\"\n",
    "\n",
    "        self.values = nn.Linear(self.head_dim, self.head_dim, bias=False)\n",
    "        self.keys = nn.Linear(self.head_dim, self.head_dim, bias=False)\n",
    "        self.queries = nn.Linear(self.head_dim, self.head_dim, bias=False)\n",
    "        self.fc_out = nn.Linear(heads * self.head_dim, embed_size)\n",
    "\n",
    "    def forward(self, values, keys, query, mask):\n",
    "        N = query.shape[0]\n",
    "        value_len, key_len, query_len = values.shape[1], keys.shape[1], query.shape[1]\n",
    "\n",
    "        print(f\"Values shape: {values.shape}\")\n",
    "        print(f\"Keys shape: {keys.shape}\")\n",
    "        print(f\"Query shape: {query.shape}\")\n",
    "        \n",
    "        values = values.reshape(N, value_len, self.heads, self.head_dim)\n",
    "        keys = keys.reshape(N, key_len, self.heads, self.head_dim)\n",
    "        queries = query.reshape(N, query_len, self.heads, self.head_dim)\n",
    "        \n",
    "        print(f\"Values reshape: {values.shape}\")\n",
    "        print(f\"Keys reshape: {keys.shape}\")\n",
    "        print(f\"Query reshape: {query.shape}\")\n",
    "\n",
    "        values = self.values(values)\n",
    "        keys = self.keys(keys)\n",
    "        queries = self.queries(queries)\n",
    "\n",
    "        energy = torch.einsum(\"nqhd,nkhd->nhqk\", [queries, keys])\n",
    "        if mask is not None:\n",
    "            energy = energy.masked_fill(mask == 0, float(\"-1e20\"))\n",
    "\n",
    "        attention = torch.softmax(energy / (self.embed_size ** (1 / 2)), dim=3)\n",
    "        out = torch.einsum(\"nhql,nlhd->nqhd\", [attention, values]).reshape(N, query_len, self.heads * self.head_dim)\n",
    "\n",
    "        out = self.fc_out(out)\n",
    "        return out\n"
   ]
  },
  {
   "cell_type": "code",
   "execution_count": null,
   "id": "658cb1a8",
   "metadata": {},
   "outputs": [],
   "source": [
    "class TransformerBlock(nn.Module):\n",
    "    def __init__(self, embed_size, heads, dropout, forward_expansion):\n",
    "        super(TransformerBlock, self).__init__()\n",
    "        self.attention = MultiHeadAttention(embed_size, heads)\n",
    "        self.norm1 = nn.LayerNorm(embed_size)\n",
    "        self.feed_forward = nn.Sequential(\n",
    "            nn.Linear(embed_size, forward_expansion * embed_size),\n",
    "            nn.ReLU(),\n",
    "            nn.Linear(forward_expansion * embed_size, embed_size)\n",
    "        )\n",
    "        self.dropout = nn.Dropout(dropout)\n",
    "\n",
    "    def forward(self, value, key, query, mask):\n",
    "        attention = self.attention(value, key, query, mask)\n",
    "        x = self.dropout(self.norm1(attention + query))\n",
    "        forward = self.feed_forward(x)\n",
    "\n",
    "        out = F.relu(forward)\n",
    "#         out = F.leaky_relu(forward, negative_slope=0.01)\n",
    "#         out = F.elu(forward)\n",
    "#         out = torch.sigmoid(forward)\n",
    "#         out = torch.tanh(forward)\n",
    "\n",
    "        out = self.dropout(self.norm1(out + x))\n",
    "        return out\n"
   ]
  },
  {
   "cell_type": "code",
   "execution_count": null,
   "id": "b584272f",
   "metadata": {},
   "outputs": [],
   "source": [
    "class Transformer(nn.Module):\n",
    "    def __init__(self, embed_size, num_layers, heads, forward_expansion, dropout, num_classes):\n",
    "        super(Transformer, self).__init__()\n",
    "        self.embed_size = embed_size\n",
    "        self.input_fc = nn.Linear(753, embed_size)  \n",
    "        self.blocks = nn.ModuleList([\n",
    "            TransformerBlock(embed_size, heads, dropout, forward_expansion)\n",
    "            for _ in range(num_layers)\n",
    "        ])\n",
    "        self.linear = nn.Linear(embed_size, num_classes)\n",
    "\n",
    "    def forward(self, x, mask):\n",
    "        x = self.input_fc(x)  \n",
    "        out = x\n",
    "        for layer in self.blocks:\n",
    "            out = layer(out, out, out, mask)\n",
    "        out = self.linear(out)\n",
    "        return out\n"
   ]
  },
  {
   "cell_type": "code",
   "execution_count": null,
   "id": "adb6cc40",
   "metadata": {},
   "outputs": [],
   "source": [
    "device = torch.device(\"cuda\" if torch.cuda.is_available() else \"cpu\")\n",
    "trans = Transformer(embed_size=753, num_layers=6, heads=3, forward_expansion=4, dropout=0.1, num_classes=10).to(device)\n",
    "\n",
    "\n",
    "criterion = nn.CrossEntropyLoss()\n",
    "optimizer = optim.Adam(trans.parameters(), lr=0.0001)\n"
   ]
  },
  {
   "cell_type": "code",
   "execution_count": null,
   "id": "3b0cdb94",
   "metadata": {},
   "outputs": [],
   "source": [
    "def train_model(model, train_loader, criterion, optimizer, num_epochs=10):\n",
    "    model.train()\n",
    "    for epoch in range(num_epochs):\n",
    "        for inputs, labels in train_loader:\n",
    "            inputs, labels = inputs.to(device), labels.to(device)\n",
    "            optimizer.zero_grad()\n",
    "            outputs = model(inputs, None)  # 假设没有mask\n",
    "            loss = criterion(outputs, labels)\n",
    "            loss.backward()\n",
    "            optimizer.step()\n",
    "        print(f'Epoch {epoch+1}: Loss = {loss.item()}')\n"
   ]
  },
  {
   "cell_type": "code",
   "execution_count": null,
   "id": "9dd31e51",
   "metadata": {
    "scrolled": true
   },
   "outputs": [],
   "source": [
    "# train_model(trans, train_loader, criterion, optimizer, num_epochs=10)"
   ]
  },
  {
   "cell_type": "markdown",
   "id": "53a4e0c3-27bc-4edf-a278-e6649cd1095c",
   "metadata": {},
   "source": [
    "# Evaluation"
   ]
  },
  {
   "cell_type": "code",
   "execution_count": null,
   "id": "6a1ce334-08eb-4c5e-b99c-5d7c12b775a1",
   "metadata": {
    "tags": []
   },
   "outputs": [],
   "source": [
    "df_test_result.sort_values(by='accuracy', ascending=False)"
   ]
  },
  {
   "cell_type": "code",
   "execution_count": null,
   "id": "d1bac77a",
   "metadata": {},
   "outputs": [],
   "source": []
  }
 ],
 "metadata": {
  "kernelspec": {
   "display_name": "Python 3 (ipykernel)",
   "language": "python",
   "name": "python3"
  },
  "language_info": {
   "codemirror_mode": {
    "name": "ipython",
    "version": 3
   },
   "file_extension": ".py",
   "mimetype": "text/x-python",
   "name": "python",
   "nbconvert_exporter": "python",
   "pygments_lexer": "ipython3",
   "version": "3.11.9"
  },
  "toc-showtags": false
 },
 "nbformat": 4,
 "nbformat_minor": 5
}
